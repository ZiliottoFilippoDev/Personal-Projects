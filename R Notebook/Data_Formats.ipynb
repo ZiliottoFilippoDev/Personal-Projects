{
 "cells": [
  {
   "cell_type": "markdown",
   "id": "general-compensation",
   "metadata": {},
   "source": [
    "# Data Formats\n",
    "Here we will larn how to handle data formats like lists, vectors, matrices, arrays, data frames ecc. In R is important to change certain data formats into others"
   ]
  },
  {
   "cell_type": "code",
   "execution_count": 49,
   "id": "located-ranking",
   "metadata": {},
   "outputs": [
    {
     "data": {
      "text/html": [
       "15"
      ],
      "text/latex": [
       "15"
      ],
      "text/markdown": [
       "15"
      ],
      "text/plain": [
       "[1] 15"
      ]
     },
     "metadata": {},
     "output_type": "display_data"
    },
    {
     "data": {
      "text/html": [
       "'double'"
      ],
      "text/latex": [
       "'double'"
      ],
      "text/markdown": [
       "'double'"
      ],
      "text/plain": [
       "[1] \"double\""
      ]
     },
     "metadata": {},
     "output_type": "display_data"
    }
   ],
   "source": [
    "n1 <- 15 #double precision by default\n",
    "n1\n",
    "typeof(n1)"
   ]
  },
  {
   "cell_type": "code",
   "execution_count": 50,
   "id": "individual-premises",
   "metadata": {},
   "outputs": [
    {
     "data": {
      "text/html": [
       "1.5"
      ],
      "text/latex": [
       "1.5"
      ],
      "text/markdown": [
       "1.5"
      ],
      "text/plain": [
       "[1] 1.5"
      ]
     },
     "metadata": {},
     "output_type": "display_data"
    },
    {
     "data": {
      "text/html": [
       "'double'"
      ],
      "text/latex": [
       "'double'"
      ],
      "text/markdown": [
       "'double'"
      ],
      "text/plain": [
       "[1] \"double\""
      ]
     },
     "metadata": {},
     "output_type": "display_data"
    }
   ],
   "source": [
    "n2 <- 1.5 #double precision by default\n",
    "n2\n",
    "typeof(n2)"
   ]
  },
  {
   "cell_type": "code",
   "execution_count": 51,
   "id": "spare-corporation",
   "metadata": {},
   "outputs": [
    {
     "data": {
      "text/html": [
       "'c'"
      ],
      "text/latex": [
       "'c'"
      ],
      "text/markdown": [
       "'c'"
      ],
      "text/plain": [
       "[1] \"c\""
      ]
     },
     "metadata": {},
     "output_type": "display_data"
    },
    {
     "data": {
      "text/html": [
       "'character'"
      ],
      "text/latex": [
       "'character'"
      ],
      "text/markdown": [
       "'character'"
      ],
      "text/plain": [
       "[1] \"character\""
      ]
     },
     "metadata": {},
     "output_type": "display_data"
    }
   ],
   "source": [
    "c1 <- 'c'\n",
    "c1\n",
    "typeof(c1)"
   ]
  },
  {
   "cell_type": "code",
   "execution_count": 52,
   "id": "immediate-coral",
   "metadata": {},
   "outputs": [
    {
     "data": {
      "text/html": [
       "'Hello World'"
      ],
      "text/latex": [
       "'Hello World'"
      ],
      "text/markdown": [
       "'Hello World'"
      ],
      "text/plain": [
       "[1] \"Hello World\""
      ]
     },
     "metadata": {},
     "output_type": "display_data"
    },
    {
     "data": {
      "text/html": [
       "'character'"
      ],
      "text/latex": [
       "'character'"
      ],
      "text/markdown": [
       "'character'"
      ],
      "text/plain": [
       "[1] \"character\""
      ]
     },
     "metadata": {},
     "output_type": "display_data"
    }
   ],
   "source": [
    "c2 <- 'Hello World'\n",
    "c2\n",
    "typeof(c2)"
   ]
  },
  {
   "cell_type": "code",
   "execution_count": 53,
   "id": "warming-collection",
   "metadata": {},
   "outputs": [
    {
     "data": {
      "text/html": [
       "'logical'"
      ],
      "text/latex": [
       "'logical'"
      ],
      "text/markdown": [
       "'logical'"
      ],
      "text/plain": [
       "[1] \"logical\""
      ]
     },
     "metadata": {},
     "output_type": "display_data"
    }
   ],
   "source": [
    "l1 <- TRUE\n",
    "typeof(l1)"
   ]
  },
  {
   "cell_type": "code",
   "execution_count": 54,
   "id": "specialized-terminal",
   "metadata": {},
   "outputs": [
    {
     "data": {
      "text/html": [
       "<ol class=list-inline>\n",
       "\t<li>1</li>\n",
       "\t<li>2</li>\n",
       "\t<li>3</li>\n",
       "\t<li>4</li>\n",
       "\t<li>5</li>\n",
       "</ol>\n"
      ],
      "text/latex": [
       "\\begin{enumerate*}\n",
       "\\item 1\n",
       "\\item 2\n",
       "\\item 3\n",
       "\\item 4\n",
       "\\item 5\n",
       "\\end{enumerate*}\n"
      ],
      "text/markdown": [
       "1. 1\n",
       "2. 2\n",
       "3. 3\n",
       "4. 4\n",
       "5. 5\n",
       "\n",
       "\n"
      ],
      "text/plain": [
       "[1] 1 2 3 4 5"
      ]
     },
     "metadata": {},
     "output_type": "display_data"
    },
    {
     "data": {
      "text/html": [
       "TRUE"
      ],
      "text/latex": [
       "TRUE"
      ],
      "text/markdown": [
       "TRUE"
      ],
      "text/plain": [
       "[1] TRUE"
      ]
     },
     "metadata": {},
     "output_type": "display_data"
    }
   ],
   "source": [
    "v1 <- c(1,2,3,4,5) #c = concatenate\n",
    "v1\n",
    "is.vector(v1) #is it a vector?"
   ]
  },
  {
   "cell_type": "markdown",
   "id": "going-republican",
   "metadata": {},
   "source": [
    "## Matrix"
   ]
  },
  {
   "cell_type": "code",
   "execution_count": 55,
   "id": "loved-wayne",
   "metadata": {},
   "outputs": [
    {
     "data": {
      "text/html": [
       "<table>\n",
       "<tbody>\n",
       "\t<tr><td>TRUE </td><td>FALSE</td><td>FALSE</td></tr>\n",
       "\t<tr><td>TRUE </td><td> TRUE</td><td> TRUE</td></tr>\n",
       "</tbody>\n",
       "</table>\n"
      ],
      "text/latex": [
       "\\begin{tabular}{lll}\n",
       "\t TRUE  & FALSE & FALSE\\\\\n",
       "\t TRUE  &  TRUE &  TRUE\\\\\n",
       "\\end{tabular}\n"
      ],
      "text/markdown": [
       "\n",
       "| TRUE  | FALSE | FALSE |\n",
       "| TRUE  |  TRUE |  TRUE |\n",
       "\n"
      ],
      "text/plain": [
       "     [,1] [,2]  [,3] \n",
       "[1,] TRUE FALSE FALSE\n",
       "[2,] TRUE  TRUE  TRUE"
      ]
     },
     "metadata": {},
     "output_type": "display_data"
    },
    {
     "data": {
      "text/html": [
       "<table>\n",
       "<tbody>\n",
       "\t<tr><td>TRUE </td><td>FALSE</td><td>FALSE</td></tr>\n",
       "\t<tr><td>TRUE </td><td> TRUE</td><td> TRUE</td></tr>\n",
       "</tbody>\n",
       "</table>\n"
      ],
      "text/latex": [
       "\\begin{tabular}{lll}\n",
       "\t TRUE  & FALSE & FALSE\\\\\n",
       "\t TRUE  &  TRUE &  TRUE\\\\\n",
       "\\end{tabular}\n"
      ],
      "text/markdown": [
       "\n",
       "| TRUE  | FALSE | FALSE |\n",
       "| TRUE  |  TRUE |  TRUE |\n",
       "\n"
      ],
      "text/plain": [
       "     [,1] [,2]  [,3] \n",
       "[1,] TRUE FALSE FALSE\n",
       "[2,] TRUE  TRUE  TRUE"
      ]
     },
     "metadata": {},
     "output_type": "display_data"
    }
   ],
   "source": [
    "m1 <- matrix(c(T,T,F,T,F,T), nrow=2) #defining matrix\n",
    "m1\n",
    "\n",
    "tmp <- c(T,T,F,T,F,T) #matrix with variable\n",
    "m2 <- matrix(tmp, nrow=2)\n",
    "m2"
   ]
  },
  {
   "cell_type": "code",
   "execution_count": 56,
   "id": "joined-column",
   "metadata": {},
   "outputs": [
    {
     "data": {
      "text/html": [
       "<table>\n",
       "<tbody>\n",
       "\t<tr><td>a</td><td>b</td></tr>\n",
       "\t<tr><td>c</td><td>d</td></tr>\n",
       "</tbody>\n",
       "</table>\n"
      ],
      "text/latex": [
       "\\begin{tabular}{ll}\n",
       "\t a & b\\\\\n",
       "\t c & d\\\\\n",
       "\\end{tabular}\n"
      ],
      "text/markdown": [
       "\n",
       "| a | b |\n",
       "| c | d |\n",
       "\n"
      ],
      "text/plain": [
       "     [,1] [,2]\n",
       "[1,] a    b   \n",
       "[2,] c    d   "
      ]
     },
     "metadata": {},
     "output_type": "display_data"
    }
   ],
   "source": [
    "tmp <- c('a', 'b', \n",
    "         'c', 'd')\n",
    "m3 <- matrix(tmp, \n",
    "             nrow=2, \n",
    "             byrow = T)\n",
    "m3"
   ]
  },
  {
   "cell_type": "code",
   "execution_count": 57,
   "id": "recovered-empire",
   "metadata": {},
   "outputs": [
    {
     "name": "stdout",
     "output_type": "stream",
     "text": [
      ", , 1\n",
      "\n",
      "     [,1] [,2] [,3]\n",
      "[1,]    1    5    9\n",
      "[2,]    2    6   10\n",
      "[3,]    3    7   11\n",
      "[4,]    4    8   12\n",
      "\n",
      ", , 2\n",
      "\n",
      "     [,1] [,2] [,3]\n",
      "[1,]   13   17   21\n",
      "[2,]   14   18   22\n",
      "[3,]   15   19   23\n",
      "[4,]   16   20   24\n",
      "\n"
     ]
    }
   ],
   "source": [
    "#give data, then dimensions (rows, columns, tables)=c(4,3,2)\n",
    "a1 <- array( c(1:24), c(4,3,2))\n",
    "print(a1)\n",
    "\n",
    "#use print(a1) instead of a1 "
   ]
  },
  {
   "cell_type": "markdown",
   "id": "cutting-enzyme",
   "metadata": {},
   "source": [
    "Combining differents object types will result in a data frame of only strings. To avoid this use the function as.data.frame (make it a data frame)"
   ]
  },
  {
   "cell_type": "code",
   "execution_count": 58,
   "id": "super-chambers",
   "metadata": {},
   "outputs": [
    {
     "name": "stdout",
     "output_type": "stream",
     "text": [
      "     vNumeric vCharacter vLogical\n",
      "[1,] \"1\"      \"a\"        \"TRUE\"  \n",
      "[2,] \"2\"      \"b\"        \"FALSE\" \n",
      "[3,] \"3\"      \"c\"        \"TRUE\"  \n"
     ]
    },
    {
     "data": {
      "text/html": [
       "<table>\n",
       "<thead><tr><th scope=col>vNumeric</th><th scope=col>vCharacter</th><th scope=col>vLogical</th></tr></thead>\n",
       "<tbody>\n",
       "\t<tr><td>1    </td><td>a    </td><td>TRUE </td></tr>\n",
       "\t<tr><td>2    </td><td>b    </td><td>FALSE</td></tr>\n",
       "\t<tr><td>3    </td><td>c    </td><td>TRUE </td></tr>\n",
       "</tbody>\n",
       "</table>\n"
      ],
      "text/latex": [
       "\\begin{tabular}{r|lll}\n",
       " vNumeric & vCharacter & vLogical\\\\\n",
       "\\hline\n",
       "\t 1     & a     & TRUE \\\\\n",
       "\t 2     & b     & FALSE\\\\\n",
       "\t 3     & c     & TRUE \\\\\n",
       "\\end{tabular}\n"
      ],
      "text/markdown": [
       "\n",
       "| vNumeric | vCharacter | vLogical |\n",
       "|---|---|---|\n",
       "| 1     | a     | TRUE  |\n",
       "| 2     | b     | FALSE |\n",
       "| 3     | c     | TRUE  |\n",
       "\n"
      ],
      "text/plain": [
       "  vNumeric vCharacter vLogical\n",
       "1 1        a          TRUE    \n",
       "2 2        b          FALSE   \n",
       "3 3        c          TRUE    "
      ]
     },
     "metadata": {},
     "output_type": "display_data"
    }
   ],
   "source": [
    "vNumeric <- c(1,2,3)\n",
    "vCharacter <- c('a','b','c')\n",
    "vLogical <- c(T, F, T)\n",
    "\n",
    "dfa <- cbind(vNumeric, vCharacter, vLogical)\n",
    "print(dfa)\n",
    "\n",
    "df <- as.data.frame(cbind(vNumeric, vCharacter, vLogical))\n",
    "df"
   ]
  },
  {
   "cell_type": "markdown",
   "id": "scenic-southeast",
   "metadata": {},
   "source": [
    "### Coercing Typos\n",
    "We can either make a list combining three different object typos. In general when we 'coerce' different types it will automatically convert them into strings"
   ]
  },
  {
   "cell_type": "code",
   "execution_count": 59,
   "id": "sporting-august",
   "metadata": {},
   "outputs": [
    {
     "data": {
      "text/html": [
       "<ol>\n",
       "\t<li><ol class=list-inline>\n",
       "\t<li>1</li>\n",
       "\t<li>2</li>\n",
       "\t<li>3</li>\n",
       "</ol>\n",
       "</li>\n",
       "\t<li><ol class=list-inline>\n",
       "\t<li>'a'</li>\n",
       "\t<li>'b'</li>\n",
       "\t<li>'c'</li>\n",
       "</ol>\n",
       "</li>\n",
       "\t<li><ol class=list-inline>\n",
       "\t<li>TRUE</li>\n",
       "\t<li>FALSE</li>\n",
       "\t<li>TRUE</li>\n",
       "</ol>\n",
       "</li>\n",
       "</ol>\n"
      ],
      "text/latex": [
       "\\begin{enumerate}\n",
       "\\item \\begin{enumerate*}\n",
       "\\item 1\n",
       "\\item 2\n",
       "\\item 3\n",
       "\\end{enumerate*}\n",
       "\n",
       "\\item \\begin{enumerate*}\n",
       "\\item 'a'\n",
       "\\item 'b'\n",
       "\\item 'c'\n",
       "\\end{enumerate*}\n",
       "\n",
       "\\item \\begin{enumerate*}\n",
       "\\item TRUE\n",
       "\\item FALSE\n",
       "\\item TRUE\n",
       "\\end{enumerate*}\n",
       "\n",
       "\\end{enumerate}\n"
      ],
      "text/markdown": [
       "1. 1. 1\n",
       "2. 2\n",
       "3. 3\n",
       "\n",
       "\n",
       "\n",
       "2. 1. 'a'\n",
       "2. 'b'\n",
       "3. 'c'\n",
       "\n",
       "\n",
       "\n",
       "3. 1. TRUE\n",
       "2. FALSE\n",
       "3. TRUE\n",
       "\n",
       "\n",
       "\n",
       "\n",
       "\n"
      ],
      "text/plain": [
       "[[1]]\n",
       "[1] 1 2 3\n",
       "\n",
       "[[2]]\n",
       "[1] \"a\" \"b\" \"c\"\n",
       "\n",
       "[[3]]\n",
       "[1]  TRUE FALSE  TRUE\n"
      ]
     },
     "metadata": {},
     "output_type": "display_data"
    },
    {
     "name": "stdout",
     "output_type": "stream",
     "text": [
      "[[1]]\n",
      "[1] 1 2 3\n",
      "\n",
      "[[2]]\n",
      "[1] \"a\" \"b\" \"c\"\n",
      "\n",
      "[[3]]\n",
      "[1]  TRUE FALSE  TRUE\n",
      "\n",
      "[[4]]\n",
      "[[4]][[1]]\n",
      "[1] 1 2 3\n",
      "\n",
      "[[4]][[2]]\n",
      "[1] \"a\" \"b\" \"c\"\n",
      "\n",
      "[[4]][[3]]\n",
      "[1]  TRUE FALSE  TRUE\n",
      "\n",
      "\n"
     ]
    }
   ],
   "source": [
    "list1 <- list(vNumeric, vCharacter, vLogical)\n",
    "list1\n",
    "\n",
    "#or concatenate list\n",
    "list2 <- list(vNumeric, vCharacter, vLogical, list1)\n",
    "print(list2)"
   ]
  },
  {
   "cell_type": "code",
   "execution_count": 60,
   "id": "objective-fetish",
   "metadata": {},
   "outputs": [
    {
     "data": {
      "text/html": [
       "'character'"
      ],
      "text/latex": [
       "'character'"
      ],
      "text/markdown": [
       "'character'"
      ],
      "text/plain": [
       "[1] \"character\""
      ]
     },
     "metadata": {},
     "output_type": "display_data"
    },
    {
     "data": {
      "text/html": [
       "'double'"
      ],
      "text/latex": [
       "'double'"
      ],
      "text/markdown": [
       "'double'"
      ],
      "text/plain": [
       "[1] \"double\""
      ]
     },
     "metadata": {},
     "output_type": "display_data"
    },
    {
     "data": {
      "text/html": [
       "'double'"
      ],
      "text/latex": [
       "'double'"
      ],
      "text/markdown": [
       "'double'"
      ],
      "text/plain": [
       "[1] \"double\""
      ]
     },
     "metadata": {},
     "output_type": "display_data"
    }
   ],
   "source": [
    "coerce1 <- c(1, 'b', TRUE)\n",
    "typeof(coerce1)\n",
    "\n",
    "#or specifically\n",
    "coerce2 <- 5\n",
    "typeof(coerce2)\n",
    "\n",
    "#if we want String ---> Int\n",
    "coerce3 <- as.numeric( c('1','2','3'))\n",
    "typeof(coerce3)"
   ]
  },
  {
   "cell_type": "code",
   "execution_count": 61,
   "id": "mediterranean-marker",
   "metadata": {},
   "outputs": [
    {
     "data": {
      "text/html": [
       "<table>\n",
       "<tbody>\n",
       "\t<tr><td>1</td><td>4</td><td>7</td></tr>\n",
       "\t<tr><td>2</td><td>5</td><td>8</td></tr>\n",
       "\t<tr><td>3</td><td>6</td><td>9</td></tr>\n",
       "</tbody>\n",
       "</table>\n"
      ],
      "text/latex": [
       "\\begin{tabular}{lll}\n",
       "\t 1 & 4 & 7\\\\\n",
       "\t 2 & 5 & 8\\\\\n",
       "\t 3 & 6 & 9\\\\\n",
       "\\end{tabular}\n"
      ],
      "text/markdown": [
       "\n",
       "| 1 | 4 | 7 |\n",
       "| 2 | 5 | 8 |\n",
       "| 3 | 6 | 9 |\n",
       "\n"
      ],
      "text/plain": [
       "     [,1] [,2] [,3]\n",
       "[1,] 1    4    7   \n",
       "[2,] 2    5    8   \n",
       "[3,] 3    6    9   "
      ]
     },
     "metadata": {},
     "output_type": "display_data"
    },
    {
     "data": {
      "text/html": [
       "TRUE"
      ],
      "text/latex": [
       "TRUE"
      ],
      "text/markdown": [
       "TRUE"
      ],
      "text/plain": [
       "[1] TRUE"
      ]
     },
     "metadata": {},
     "output_type": "display_data"
    },
    {
     "data": {
      "text/html": [
       "<table>\n",
       "<thead><tr><th scope=col>V1</th><th scope=col>V2</th><th scope=col>V3</th></tr></thead>\n",
       "<tbody>\n",
       "\t<tr><td>1</td><td>4</td><td>7</td></tr>\n",
       "\t<tr><td>2</td><td>5</td><td>8</td></tr>\n",
       "\t<tr><td>3</td><td>6</td><td>9</td></tr>\n",
       "</tbody>\n",
       "</table>\n"
      ],
      "text/latex": [
       "\\begin{tabular}{r|lll}\n",
       " V1 & V2 & V3\\\\\n",
       "\\hline\n",
       "\t 1 & 4 & 7\\\\\n",
       "\t 2 & 5 & 8\\\\\n",
       "\t 3 & 6 & 9\\\\\n",
       "\\end{tabular}\n"
      ],
      "text/markdown": [
       "\n",
       "| V1 | V2 | V3 |\n",
       "|---|---|---|\n",
       "| 1 | 4 | 7 |\n",
       "| 2 | 5 | 8 |\n",
       "| 3 | 6 | 9 |\n",
       "\n"
      ],
      "text/plain": [
       "  V1 V2 V3\n",
       "1 1  4  7 \n",
       "2 2  5  8 \n",
       "3 3  6  9 "
      ]
     },
     "metadata": {},
     "output_type": "display_data"
    },
    {
     "data": {
      "text/html": [
       "TRUE"
      ],
      "text/latex": [
       "TRUE"
      ],
      "text/markdown": [
       "TRUE"
      ],
      "text/plain": [
       "[1] TRUE"
      ]
     },
     "metadata": {},
     "output_type": "display_data"
    }
   ],
   "source": [
    "#with Matrices\n",
    "(coerce6 <- matrix(1:9, nrow=3))\n",
    "is.matrix(coerce6) #is it a matrix?\n",
    "\n",
    "(coerce7 <- as.data.frame(matrix(1:9, nrow=3)))\n",
    "is.data.frame(coerce7)"
   ]
  },
  {
   "cell_type": "markdown",
   "id": "listed-segment",
   "metadata": {},
   "source": [
    "# Factors"
   ]
  },
  {
   "cell_type": "code",
   "execution_count": 63,
   "id": "unusual-differential",
   "metadata": {},
   "outputs": [
    {
     "data": {
      "text/html": [
       "<ol class=list-inline>\n",
       "\t<li>1</li>\n",
       "\t<li>2</li>\n",
       "\t<li>3</li>\n",
       "</ol>\n"
      ],
      "text/latex": [
       "\\begin{enumerate*}\n",
       "\\item 1\n",
       "\\item 2\n",
       "\\item 3\n",
       "\\end{enumerate*}\n"
      ],
      "text/markdown": [
       "1. 1\n",
       "2. 2\n",
       "3. 3\n",
       "\n",
       "\n"
      ],
      "text/plain": [
       "[1] 1 2 3"
      ]
     },
     "metadata": {},
     "output_type": "display_data"
    },
    {
     "data": {
      "text/html": [
       "<ol class=list-inline>\n",
       "\t<li>1</li>\n",
       "\t<li>2</li>\n",
       "\t<li>3</li>\n",
       "\t<li>4</li>\n",
       "\t<li>5</li>\n",
       "\t<li>6</li>\n",
       "\t<li>7</li>\n",
       "\t<li>8</li>\n",
       "\t<li>9</li>\n",
       "</ol>\n"
      ],
      "text/latex": [
       "\\begin{enumerate*}\n",
       "\\item 1\n",
       "\\item 2\n",
       "\\item 3\n",
       "\\item 4\n",
       "\\item 5\n",
       "\\item 6\n",
       "\\item 7\n",
       "\\item 8\n",
       "\\item 9\n",
       "\\end{enumerate*}\n"
      ],
      "text/markdown": [
       "1. 1\n",
       "2. 2\n",
       "3. 3\n",
       "4. 4\n",
       "5. 5\n",
       "6. 6\n",
       "7. 7\n",
       "8. 8\n",
       "9. 9\n",
       "\n",
       "\n"
      ],
      "text/plain": [
       "[1] 1 2 3 4 5 6 7 8 9"
      ]
     },
     "metadata": {},
     "output_type": "display_data"
    },
    {
     "data": {
      "text/html": [
       "<table>\n",
       "<thead><tr><th scope=col>x1</th><th scope=col>y</th></tr></thead>\n",
       "<tbody>\n",
       "\t<tr><td>1</td><td>1</td></tr>\n",
       "\t<tr><td>2</td><td>2</td></tr>\n",
       "\t<tr><td>3</td><td>3</td></tr>\n",
       "\t<tr><td>1</td><td>4</td></tr>\n",
       "\t<tr><td>2</td><td>5</td></tr>\n",
       "\t<tr><td>3</td><td>6</td></tr>\n",
       "\t<tr><td>1</td><td>7</td></tr>\n",
       "\t<tr><td>2</td><td>8</td></tr>\n",
       "\t<tr><td>3</td><td>9</td></tr>\n",
       "</tbody>\n",
       "</table>\n"
      ],
      "text/latex": [
       "\\begin{tabular}{r|ll}\n",
       " x1 & y\\\\\n",
       "\\hline\n",
       "\t 1 & 1\\\\\n",
       "\t 2 & 2\\\\\n",
       "\t 3 & 3\\\\\n",
       "\t 1 & 4\\\\\n",
       "\t 2 & 5\\\\\n",
       "\t 3 & 6\\\\\n",
       "\t 1 & 7\\\\\n",
       "\t 2 & 8\\\\\n",
       "\t 3 & 9\\\\\n",
       "\\end{tabular}\n"
      ],
      "text/markdown": [
       "\n",
       "| x1 | y |\n",
       "|---|---|\n",
       "| 1 | 1 |\n",
       "| 2 | 2 |\n",
       "| 3 | 3 |\n",
       "| 1 | 4 |\n",
       "| 2 | 5 |\n",
       "| 3 | 6 |\n",
       "| 1 | 7 |\n",
       "| 2 | 8 |\n",
       "| 3 | 9 |\n",
       "\n"
      ],
      "text/plain": [
       "  x1 y\n",
       "1 1  1\n",
       "2 2  2\n",
       "3 3  3\n",
       "4 1  4\n",
       "5 2  5\n",
       "6 3  6\n",
       "7 1  7\n",
       "8 2  8\n",
       "9 3  9"
      ]
     },
     "metadata": {},
     "output_type": "display_data"
    },
    {
     "data": {
      "text/html": [
       "'integer'"
      ],
      "text/latex": [
       "'integer'"
      ],
      "text/markdown": [
       "'integer'"
      ],
      "text/plain": [
       "[1] \"integer\""
      ]
     },
     "metadata": {},
     "output_type": "display_data"
    },
    {
     "name": "stdout",
     "output_type": "stream",
     "text": [
      "'data.frame':\t9 obs. of  2 variables:\n",
      " $ x1: int  1 2 3 1 2 3 1 2 3\n",
      " $ y : int  1 2 3 4 5 6 7 8 9\n"
     ]
    }
   ],
   "source": [
    "#create data\n",
    "(x1 <- 1:3)\n",
    "(y  <- 1:9)\n",
    "\n",
    "#combine data\n",
    "(df1 <- cbind.data.frame(x1,y))\n",
    "typeof(df1$x1)\n",
    "str(df1) #structure of df1"
   ]
  },
  {
   "cell_type": "code",
   "execution_count": 70,
   "id": "oriented-short",
   "metadata": {},
   "outputs": [
    {
     "data": {
      "text/html": [
       "'integer'"
      ],
      "text/latex": [
       "'integer'"
      ],
      "text/markdown": [
       "'integer'"
      ],
      "text/plain": [
       "[1] \"integer\""
      ]
     },
     "metadata": {},
     "output_type": "display_data"
    },
    {
     "name": "stdout",
     "output_type": "stream",
     "text": [
      "'data.frame':\t9 obs. of  2 variables:\n",
      " $ x3: Factor w/ 3 levels \"macOS\",\"Windows\",..: 1 2 3 1 2 3 1 2 3\n",
      " $ y : int  1 2 3 4 5 6 7 8 9\n"
     ]
    },
    {
     "data": {
      "text/html": [
       "<table>\n",
       "<thead><tr><th scope=col>x3</th><th scope=col>y</th></tr></thead>\n",
       "<tbody>\n",
       "\t<tr><td>macOS  </td><td>1      </td></tr>\n",
       "\t<tr><td>Windows</td><td>2      </td></tr>\n",
       "\t<tr><td>Linux  </td><td>3      </td></tr>\n",
       "\t<tr><td>macOS  </td><td>4      </td></tr>\n",
       "\t<tr><td>Windows</td><td>5      </td></tr>\n",
       "\t<tr><td>Linux  </td><td>6      </td></tr>\n",
       "\t<tr><td>macOS  </td><td>7      </td></tr>\n",
       "\t<tr><td>Windows</td><td>8      </td></tr>\n",
       "\t<tr><td>Linux  </td><td>9      </td></tr>\n",
       "</tbody>\n",
       "</table>\n"
      ],
      "text/latex": [
       "\\begin{tabular}{r|ll}\n",
       " x3 & y\\\\\n",
       "\\hline\n",
       "\t macOS   & 1      \\\\\n",
       "\t Windows & 2      \\\\\n",
       "\t Linux   & 3      \\\\\n",
       "\t macOS   & 4      \\\\\n",
       "\t Windows & 5      \\\\\n",
       "\t Linux   & 6      \\\\\n",
       "\t macOS   & 7      \\\\\n",
       "\t Windows & 8      \\\\\n",
       "\t Linux   & 9      \\\\\n",
       "\\end{tabular}\n"
      ],
      "text/markdown": [
       "\n",
       "| x3 | y |\n",
       "|---|---|\n",
       "| macOS   | 1       |\n",
       "| Windows | 2       |\n",
       "| Linux   | 3       |\n",
       "| macOS   | 4       |\n",
       "| Windows | 5       |\n",
       "| Linux   | 6       |\n",
       "| macOS   | 7       |\n",
       "| Windows | 8       |\n",
       "| Linux   | 9       |\n",
       "\n"
      ],
      "text/plain": [
       "  x3      y\n",
       "1 macOS   1\n",
       "2 Windows 2\n",
       "3 Linux   3\n",
       "4 macOS   4\n",
       "5 Windows 5\n",
       "6 Linux   6\n",
       "7 macOS   7\n",
       "8 Windows 8\n",
       "9 Linux   9"
      ]
     },
     "metadata": {},
     "output_type": "display_data"
    }
   ],
   "source": [
    "x3 <- c(1:3)\n",
    "df3 <- cbind.data.frame(x3,y)\n",
    "df3$x3 <- factor(df3$x3,\n",
    "                 levels = c(1,2,3),\n",
    "                 labels = c('macOS', 'Windows', 'Linux'))\n",
    "typeof(df3$y)\n",
    "str(df3)\n",
    "df3"
   ]
  },
  {
   "cell_type": "code",
   "execution_count": null,
   "id": "efficient-bargain",
   "metadata": {},
   "outputs": [],
   "source": []
  }
 ],
 "metadata": {
  "kernelspec": {
   "display_name": "R",
   "language": "R",
   "name": "ir"
  },
  "language_info": {
   "codemirror_mode": "r",
   "file_extension": ".r",
   "mimetype": "text/x-r-source",
   "name": "R",
   "pygments_lexer": "r",
   "version": "3.6.1"
  }
 },
 "nbformat": 4,
 "nbformat_minor": 5
}
