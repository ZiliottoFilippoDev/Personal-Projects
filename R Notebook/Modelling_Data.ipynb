{
 "cells": [
  {
   "cell_type": "markdown",
   "id": "resident-coordination",
   "metadata": {},
   "source": [
    "# Modelling Data"
   ]
  },
  {
   "cell_type": "markdown",
   "id": "extra-dream",
   "metadata": {},
   "source": [
    "## Hierachical clustering\n",
    "Here it is explain only hierarchical clustering but with R we can do tons of statistical and ML modelling. Here we use the dplyr library (as usual i'm not able to import in jupyter this library but in Rstudio it will be fine)"
   ]
  },
  {
   "cell_type": "code",
   "execution_count": 1,
   "id": "naval-transport",
   "metadata": {},
   "outputs": [
    {
     "data": {
      "text/html": [
       "<table>\n",
       "<thead><tr><th></th><th scope=col>mpg</th><th scope=col>cyl</th><th scope=col>disp</th><th scope=col>hp</th><th scope=col>drat</th><th scope=col>wt</th><th scope=col>qsec</th><th scope=col>vs</th><th scope=col>am</th><th scope=col>gear</th><th scope=col>carb</th></tr></thead>\n",
       "<tbody>\n",
       "\t<tr><th scope=row>Mazda RX4</th><td>21.0 </td><td>6    </td><td>160  </td><td>110  </td><td>3.90 </td><td>2.620</td><td>16.46</td><td>0    </td><td>1    </td><td>4    </td><td>4    </td></tr>\n",
       "\t<tr><th scope=row>Mazda RX4 Wag</th><td>21.0 </td><td>6    </td><td>160  </td><td>110  </td><td>3.90 </td><td>2.875</td><td>17.02</td><td>0    </td><td>1    </td><td>4    </td><td>4    </td></tr>\n",
       "\t<tr><th scope=row>Datsun 710</th><td>22.8 </td><td>4    </td><td>108  </td><td> 93  </td><td>3.85 </td><td>2.320</td><td>18.61</td><td>1    </td><td>1    </td><td>4    </td><td>1    </td></tr>\n",
       "\t<tr><th scope=row>Hornet 4 Drive</th><td>21.4 </td><td>6    </td><td>258  </td><td>110  </td><td>3.08 </td><td>3.215</td><td>19.44</td><td>1    </td><td>0    </td><td>3    </td><td>1    </td></tr>\n",
       "\t<tr><th scope=row>Hornet Sportabout</th><td>18.7 </td><td>8    </td><td>360  </td><td>175  </td><td>3.15 </td><td>3.440</td><td>17.02</td><td>0    </td><td>0    </td><td>3    </td><td>2    </td></tr>\n",
       "\t<tr><th scope=row>Valiant</th><td>18.1 </td><td>6    </td><td>225  </td><td>105  </td><td>2.76 </td><td>3.460</td><td>20.22</td><td>1    </td><td>0    </td><td>3    </td><td>1    </td></tr>\n",
       "</tbody>\n",
       "</table>\n"
      ],
      "text/latex": [
       "\\begin{tabular}{r|lllllllllll}\n",
       "  & mpg & cyl & disp & hp & drat & wt & qsec & vs & am & gear & carb\\\\\n",
       "\\hline\n",
       "\tMazda RX4 & 21.0  & 6     & 160   & 110   & 3.90  & 2.620 & 16.46 & 0     & 1     & 4     & 4    \\\\\n",
       "\tMazda RX4 Wag & 21.0  & 6     & 160   & 110   & 3.90  & 2.875 & 17.02 & 0     & 1     & 4     & 4    \\\\\n",
       "\tDatsun 710 & 22.8  & 4     & 108   &  93   & 3.85  & 2.320 & 18.61 & 1     & 1     & 4     & 1    \\\\\n",
       "\tHornet 4 Drive & 21.4  & 6     & 258   & 110   & 3.08  & 3.215 & 19.44 & 1     & 0     & 3     & 1    \\\\\n",
       "\tHornet Sportabout & 18.7  & 8     & 360   & 175   & 3.15  & 3.440 & 17.02 & 0     & 0     & 3     & 2    \\\\\n",
       "\tValiant & 18.1  & 6     & 225   & 105   & 2.76  & 3.460 & 20.22 & 1     & 0     & 3     & 1    \\\\\n",
       "\\end{tabular}\n"
      ],
      "text/markdown": [
       "\n",
       "| <!--/--> | mpg | cyl | disp | hp | drat | wt | qsec | vs | am | gear | carb |\n",
       "|---|---|---|---|---|---|---|---|---|---|---|---|\n",
       "| Mazda RX4 | 21.0  | 6     | 160   | 110   | 3.90  | 2.620 | 16.46 | 0     | 1     | 4     | 4     |\n",
       "| Mazda RX4 Wag | 21.0  | 6     | 160   | 110   | 3.90  | 2.875 | 17.02 | 0     | 1     | 4     | 4     |\n",
       "| Datsun 710 | 22.8  | 4     | 108   |  93   | 3.85  | 2.320 | 18.61 | 1     | 1     | 4     | 1     |\n",
       "| Hornet 4 Drive | 21.4  | 6     | 258   | 110   | 3.08  | 3.215 | 19.44 | 1     | 0     | 3     | 1     |\n",
       "| Hornet Sportabout | 18.7  | 8     | 360   | 175   | 3.15  | 3.440 | 17.02 | 0     | 0     | 3     | 2     |\n",
       "| Valiant | 18.1  | 6     | 225   | 105   | 2.76  | 3.460 | 20.22 | 1     | 0     | 3     | 1     |\n",
       "\n"
      ],
      "text/plain": [
       "                  mpg  cyl disp hp  drat wt    qsec  vs am gear carb\n",
       "Mazda RX4         21.0 6   160  110 3.90 2.620 16.46 0  1  4    4   \n",
       "Mazda RX4 Wag     21.0 6   160  110 3.90 2.875 17.02 0  1  4    4   \n",
       "Datsun 710        22.8 4   108   93 3.85 2.320 18.61 1  1  4    1   \n",
       "Hornet 4 Drive    21.4 6   258  110 3.08 3.215 19.44 1  0  3    1   \n",
       "Hornet Sportabout 18.7 8   360  175 3.15 3.440 17.02 0  0  3    2   \n",
       "Valiant           18.1 6   225  105 2.76 3.460 20.22 1  0  3    1   "
      ]
     },
     "metadata": {},
     "output_type": "display_data"
    }
   ],
   "source": [
    "library(datasets)\n",
    "head(mtcars)"
   ]
  },
  {
   "cell_type": "code",
   "execution_count": 2,
   "id": "friendly-latino",
   "metadata": {},
   "outputs": [
    {
     "data": {
      "text/html": [
       "<table>\n",
       "<thead><tr><th></th><th scope=col>mpg</th><th scope=col>cyl</th><th scope=col>disp</th><th scope=col>hp</th><th scope=col>wt</th><th scope=col>qsec</th><th scope=col>am</th><th scope=col>gear</th><th scope=col>carb</th></tr></thead>\n",
       "<tbody>\n",
       "\t<tr><th scope=row>Mazda RX4</th><td>21.0 </td><td>6    </td><td>160  </td><td>110  </td><td>2.620</td><td>16.46</td><td>1    </td><td>4    </td><td>4    </td></tr>\n",
       "\t<tr><th scope=row>Mazda RX4 Wag</th><td>21.0 </td><td>6    </td><td>160  </td><td>110  </td><td>2.875</td><td>17.02</td><td>1    </td><td>4    </td><td>4    </td></tr>\n",
       "\t<tr><th scope=row>Datsun 710</th><td>22.8 </td><td>4    </td><td>108  </td><td> 93  </td><td>2.320</td><td>18.61</td><td>1    </td><td>4    </td><td>1    </td></tr>\n",
       "\t<tr><th scope=row>Hornet 4 Drive</th><td>21.4 </td><td>6    </td><td>258  </td><td>110  </td><td>3.215</td><td>19.44</td><td>0    </td><td>3    </td><td>1    </td></tr>\n",
       "\t<tr><th scope=row>Hornet Sportabout</th><td>18.7 </td><td>8    </td><td>360  </td><td>175  </td><td>3.440</td><td>17.02</td><td>0    </td><td>3    </td><td>2    </td></tr>\n",
       "\t<tr><th scope=row>Valiant</th><td>18.1 </td><td>6    </td><td>225  </td><td>105  </td><td>3.460</td><td>20.22</td><td>0    </td><td>3    </td><td>1    </td></tr>\n",
       "</tbody>\n",
       "</table>\n"
      ],
      "text/latex": [
       "\\begin{tabular}{r|lllllllll}\n",
       "  & mpg & cyl & disp & hp & wt & qsec & am & gear & carb\\\\\n",
       "\\hline\n",
       "\tMazda RX4 & 21.0  & 6     & 160   & 110   & 2.620 & 16.46 & 1     & 4     & 4    \\\\\n",
       "\tMazda RX4 Wag & 21.0  & 6     & 160   & 110   & 2.875 & 17.02 & 1     & 4     & 4    \\\\\n",
       "\tDatsun 710 & 22.8  & 4     & 108   &  93   & 2.320 & 18.61 & 1     & 4     & 1    \\\\\n",
       "\tHornet 4 Drive & 21.4  & 6     & 258   & 110   & 3.215 & 19.44 & 0     & 3     & 1    \\\\\n",
       "\tHornet Sportabout & 18.7  & 8     & 360   & 175   & 3.440 & 17.02 & 0     & 3     & 2    \\\\\n",
       "\tValiant & 18.1  & 6     & 225   & 105   & 3.460 & 20.22 & 0     & 3     & 1    \\\\\n",
       "\\end{tabular}\n"
      ],
      "text/markdown": [
       "\n",
       "| <!--/--> | mpg | cyl | disp | hp | wt | qsec | am | gear | carb |\n",
       "|---|---|---|---|---|---|---|---|---|---|\n",
       "| Mazda RX4 | 21.0  | 6     | 160   | 110   | 2.620 | 16.46 | 1     | 4     | 4     |\n",
       "| Mazda RX4 Wag | 21.0  | 6     | 160   | 110   | 2.875 | 17.02 | 1     | 4     | 4     |\n",
       "| Datsun 710 | 22.8  | 4     | 108   |  93   | 2.320 | 18.61 | 1     | 4     | 1     |\n",
       "| Hornet 4 Drive | 21.4  | 6     | 258   | 110   | 3.215 | 19.44 | 0     | 3     | 1     |\n",
       "| Hornet Sportabout | 18.7  | 8     | 360   | 175   | 3.440 | 17.02 | 0     | 3     | 2     |\n",
       "| Valiant | 18.1  | 6     | 225   | 105   | 3.460 | 20.22 | 0     | 3     | 1     |\n",
       "\n"
      ],
      "text/plain": [
       "                  mpg  cyl disp hp  wt    qsec  am gear carb\n",
       "Mazda RX4         21.0 6   160  110 2.620 16.46 1  4    4   \n",
       "Mazda RX4 Wag     21.0 6   160  110 2.875 17.02 1  4    4   \n",
       "Datsun 710        22.8 4   108   93 2.320 18.61 1  4    1   \n",
       "Hornet 4 Drive    21.4 6   258  110 3.215 19.44 0  3    1   \n",
       "Hornet Sportabout 18.7 8   360  175 3.440 17.02 0  3    2   \n",
       "Valiant           18.1 6   225  105 3.460 20.22 0  3    1   "
      ]
     },
     "metadata": {},
     "output_type": "display_data"
    }
   ],
   "source": [
    "cars <- mtcars[, c(1:4, 6:7, 9:11)] #all rows, select 1to4, 6and7\n",
    "head(cars)"
   ]
  },
  {
   "cell_type": "markdown",
   "id": "acknowledged-department",
   "metadata": {},
   "source": [
    "Compute and plot clusters"
   ]
  },
  {
   "cell_type": "code",
   "execution_count": 3,
   "id": "martial-american",
   "metadata": {},
   "outputs": [
    {
     "ename": "ERROR",
     "evalue": "Error: package or namespace load failed for 'dplyr' in loadNamespace(i, c(lib.loc, .libPaths()), versionCheck = vI[[i]]):\n namespace 'rlang' 0.3.4 is already loaded, but >= 0.4.0 is required\n",
     "output_type": "error",
     "traceback": [
      "Error: package or namespace load failed for 'dplyr' in loadNamespace(i, c(lib.loc, .libPaths()), versionCheck = vI[[i]]):\n namespace 'rlang' 0.3.4 is already loaded, but >= 0.4.0 is required\nTraceback:\n",
      "1. library(dplyr)",
      "2. tryCatch({\n .     attr(package, \"LibPath\") <- which.lib.loc\n .     ns <- loadNamespace(package, lib.loc)\n .     env <- attachNamespace(ns, pos = pos, deps, exclude, include.only)\n . }, error = function(e) {\n .     P <- if (!is.null(cc <- conditionCall(e))) \n .         paste(\" in\", deparse(cc)[1L])\n .     else \"\"\n .     msg <- gettextf(\"package or namespace load failed for %s%s:\\n %s\", \n .         sQuote(package), P, conditionMessage(e))\n .     if (logical.return) \n .         message(paste(\"Error:\", msg), domain = NA)\n .     else stop(msg, call. = FALSE, domain = NA)\n . })",
      "3. tryCatchList(expr, classes, parentenv, handlers)",
      "4. tryCatchOne(expr, names, parentenv, handlers[[1L]])",
      "5. value[[3L]](cond)",
      "6. stop(msg, call. = FALSE, domain = NA)"
     ]
    }
   ],
   "source": [
    "library(dplyr)"
   ]
  },
  {
   "cell_type": "code",
   "execution_count": 4,
   "id": "native-mention",
   "metadata": {},
   "outputs": [
    {
     "ename": "ERROR",
     "evalue": "Error in cars %>% dist %>% hclust: non trovo la funzione \"%>%\"\n",
     "output_type": "error",
     "traceback": [
      "Error in cars %>% dist %>% hclust: non trovo la funzione \"%>%\"\nTraceback:\n"
     ]
    }
   ],
   "source": [
    "hc <- cars %>% #Get cars data\n",
    "      dist %>% #Compute distance/dissimilarity matrix\n",
    "      hclust #computer hierarchical clusters\n",
    "\n",
    "plot(hc)\n",
    "\n",
    "rect.hclust(hc, k=2 , border='blue')"
   ]
  },
  {
   "cell_type": "markdown",
   "id": "unique-block",
   "metadata": {},
   "source": [
    "## PCA analysis\n",
    "\n",
    "Principal component Analysis or Dimensionality reduction\n"
   ]
  },
  {
   "cell_type": "code",
   "execution_count": 5,
   "id": "handy-replica",
   "metadata": {},
   "outputs": [
    {
     "data": {
      "text/plain": [
       "Importance of components:\n",
       "                          PC1    PC2     PC3     PC4     PC5     PC6     PC7\n",
       "Standard deviation     2.3391 1.5299 0.71836 0.46491 0.38903 0.35099 0.31714\n",
       "Proportion of Variance 0.6079 0.2601 0.05734 0.02402 0.01682 0.01369 0.01118\n",
       "Cumulative Proportion  0.6079 0.8680 0.92537 0.94939 0.96620 0.97989 0.99107\n",
       "                           PC8    PC9\n",
       "Standard deviation     0.24070 0.1499\n",
       "Proportion of Variance 0.00644 0.0025\n",
       "Cumulative Proportion  0.99750 1.0000"
      ]
     },
     "metadata": {},
     "output_type": "display_data"
    },
    {
     "data": {
      "text/plain": [
       "Standard deviations (1, .., p=9):\n",
       "[1] 2.3391410 1.5299383 0.7183646 0.4649052 0.3890348 0.3509911 0.3171373\n",
       "[8] 0.2406989 0.1498962\n",
       "\n",
       "Rotation (n x k) = (9 x 9):\n",
       "            PC1         PC2         PC3        PC4         PC5          PC6\n",
       "mpg  -0.4023287  0.02205294 -0.17272803 -0.1366169  0.31654561 -0.718609897\n",
       "cyl   0.4068870  0.03589482 -0.27747610  0.1410976  0.02066646 -0.214224005\n",
       "disp  0.4046964 -0.06479590 -0.17669890 -0.5089434  0.21525777  0.010052074\n",
       "hp    0.3699702  0.26518848 -0.01046827 -0.1273173  0.42166543 -0.254229405\n",
       "wt    0.3850686 -0.15955242  0.33740464 -0.4469327 -0.21141143  0.002897706\n",
       "qsec -0.2168575 -0.48343885  0.54815205 -0.2545226  0.05466817 -0.226660704\n",
       "am   -0.2594512  0.46039449 -0.19492256 -0.5354196 -0.55331460 -0.087616182\n",
       "gear -0.2195660  0.50608232  0.34579810 -0.1799814  0.50533262  0.393990378\n",
       "carb  0.2471604  0.44322600  0.53847588  0.3203064 -0.25696817 -0.398353829\n",
       "            PC7        PC8         PC9\n",
       "mpg   0.3633216 -0.1487806  0.13567069\n",
       "cyl   0.2099893  0.7951724  0.11635839\n",
       "disp  0.2007152 -0.1346748 -0.66099594\n",
       "hp   -0.6741641 -0.1210386  0.25474680\n",
       "wt    0.3392809 -0.1598333  0.57211273\n",
       "qsec -0.2986852  0.4144075 -0.19671599\n",
       "am   -0.2135605  0.1897463 -0.02465169\n",
       "gear  0.2484622  0.2614819  0.05482771\n",
       "carb  0.1321064 -0.1054553 -0.31083546"
      ]
     },
     "metadata": {},
     "output_type": "display_data"
    },
    {
     "data": {
      "image/png": "[encoded data removed]",
      "text/plain": [
       "Plot with title \"pc\""
      ]
     },
     "metadata": {},
     "output_type": "display_data"
    }
   ],
   "source": [
    "#All dataset\n",
    "pc <- prcomp(cars,\n",
    "            center = TRUE, #centers means to 0\n",
    "            scale = TRUE #set unit variance 0\n",
    "            )\n",
    "summary(pc)\n",
    "plot(pc) #look at the importance of the dataset\n",
    "pc #correlation of the variables as rotations"
   ]
  },
  {
   "cell_type": "code",
   "execution_count": 6,
   "id": "efficient-asian",
   "metadata": {},
   "outputs": [
    {
     "ename": "ERROR",
     "evalue": "Error in predict(pc) %>% round(2): non trovo la funzione \"%>%\"\n",
     "output_type": "error",
     "traceback": [
      "Error in predict(pc) %>% round(2): non trovo la funzione \"%>%\"\nTraceback:\n"
     ]
    }
   ],
   "source": [
    "predict(pc) %>% round(2) #how cases load on PCs"
   ]
  },
  {
   "cell_type": "markdown",
   "id": "modern-italian",
   "metadata": {},
   "source": [
    "This plot shows:\n",
    "- Up: Fast cars\n",
    "- Down: Slow cars\n",
    "- Right: Big heavy cars\n",
    "- Left: Small cars with engine more efficent"
   ]
  },
  {
   "cell_type": "code",
   "execution_count": 7,
   "id": "under-founder",
   "metadata": {},
   "outputs": [
    {
     "data": {
      "image/png": "[encoded data removed]",
      "text/plain": [
       "plot without title"
      ]
     },
     "metadata": {},
     "output_type": "display_data"
    }
   ],
   "source": [
    "biplot(pc) #2d plot = only first two components"
   ]
  },
  {
   "cell_type": "markdown",
   "id": "based-breast",
   "metadata": {},
   "source": [
    "## Regression\n",
    "$\"Out of many variables, one variable\"$ cit. R gives good results for regression as P-value adn R squaried coefficients"
   ]
  },
  {
   "cell_type": "code",
   "execution_count": 8,
   "id": "interesting-monitor",
   "metadata": {},
   "outputs": [],
   "source": [
    "?USJudgeRatings"
   ]
  },
  {
   "cell_type": "code",
   "execution_count": 9,
   "id": "recorded-inspiration",
   "metadata": {},
   "outputs": [
    {
     "data": {
      "text/html": [
       "<table>\n",
       "<thead><tr><th></th><th scope=col>CONT</th><th scope=col>INTG</th><th scope=col>DMNR</th><th scope=col>DILG</th><th scope=col>CFMG</th><th scope=col>DECI</th><th scope=col>PREP</th><th scope=col>FAMI</th><th scope=col>ORAL</th><th scope=col>WRIT</th><th scope=col>PHYS</th><th scope=col>RTEN</th></tr></thead>\n",
       "<tbody>\n",
       "\t<tr><th scope=row>AARONSON,L.H.</th><td>5.7</td><td>7.9</td><td>7.7</td><td>7.3</td><td>7.1</td><td>7.4</td><td>7.1</td><td>7.1</td><td>7.1</td><td>7.0</td><td>8.3</td><td>7.8</td></tr>\n",
       "\t<tr><th scope=row>ALEXANDER,J.M.</th><td>6.8</td><td>8.9</td><td>8.8</td><td>8.5</td><td>7.8</td><td>8.1</td><td>8.0</td><td>8.0</td><td>7.8</td><td>7.9</td><td>8.5</td><td>8.7</td></tr>\n",
       "\t<tr><th scope=row>ARMENTANO,A.J.</th><td>7.2</td><td>8.1</td><td>7.8</td><td>7.8</td><td>7.5</td><td>7.6</td><td>7.5</td><td>7.5</td><td>7.3</td><td>7.4</td><td>7.9</td><td>7.8</td></tr>\n",
       "\t<tr><th scope=row>BERDON,R.I.</th><td>6.8</td><td>8.8</td><td>8.5</td><td>8.8</td><td>8.3</td><td>8.5</td><td>8.7</td><td>8.7</td><td>8.4</td><td>8.5</td><td>8.8</td><td>8.7</td></tr>\n",
       "\t<tr><th scope=row>BRACKEN,J.J.</th><td>7.3</td><td>6.4</td><td>4.3</td><td>6.5</td><td>6.0</td><td>6.2</td><td>5.7</td><td>5.7</td><td>5.1</td><td>5.3</td><td>5.5</td><td>4.8</td></tr>\n",
       "\t<tr><th scope=row>BURNS,E.B.</th><td>6.2</td><td>8.8</td><td>8.7</td><td>8.5</td><td>7.9</td><td>8.0</td><td>8.1</td><td>8.0</td><td>8.0</td><td>8.0</td><td>8.6</td><td>8.6</td></tr>\n",
       "</tbody>\n",
       "</table>\n"
      ],
      "text/latex": [
       "\\begin{tabular}{r|llllllllllll}\n",
       "  & CONT & INTG & DMNR & DILG & CFMG & DECI & PREP & FAMI & ORAL & WRIT & PHYS & RTEN\\\\\n",
       "\\hline\n",
       "\tAARONSON,L.H. & 5.7 & 7.9 & 7.7 & 7.3 & 7.1 & 7.4 & 7.1 & 7.1 & 7.1 & 7.0 & 8.3 & 7.8\\\\\n",
       "\tALEXANDER,J.M. & 6.8 & 8.9 & 8.8 & 8.5 & 7.8 & 8.1 & 8.0 & 8.0 & 7.8 & 7.9 & 8.5 & 8.7\\\\\n",
       "\tARMENTANO,A.J. & 7.2 & 8.1 & 7.8 & 7.8 & 7.5 & 7.6 & 7.5 & 7.5 & 7.3 & 7.4 & 7.9 & 7.8\\\\\n",
       "\tBERDON,R.I. & 6.8 & 8.8 & 8.5 & 8.8 & 8.3 & 8.5 & 8.7 & 8.7 & 8.4 & 8.5 & 8.8 & 8.7\\\\\n",
       "\tBRACKEN,J.J. & 7.3 & 6.4 & 4.3 & 6.5 & 6.0 & 6.2 & 5.7 & 5.7 & 5.1 & 5.3 & 5.5 & 4.8\\\\\n",
       "\tBURNS,E.B. & 6.2 & 8.8 & 8.7 & 8.5 & 7.9 & 8.0 & 8.1 & 8.0 & 8.0 & 8.0 & 8.6 & 8.6\\\\\n",
       "\\end{tabular}\n"
      ],
      "text/markdown": [
       "\n",
       "| <!--/--> | CONT | INTG | DMNR | DILG | CFMG | DECI | PREP | FAMI | ORAL | WRIT | PHYS | RTEN |\n",
       "|---|---|---|---|---|---|---|---|---|---|---|---|---|\n",
       "| AARONSON,L.H. | 5.7 | 7.9 | 7.7 | 7.3 | 7.1 | 7.4 | 7.1 | 7.1 | 7.1 | 7.0 | 8.3 | 7.8 |\n",
       "| ALEXANDER,J.M. | 6.8 | 8.9 | 8.8 | 8.5 | 7.8 | 8.1 | 8.0 | 8.0 | 7.8 | 7.9 | 8.5 | 8.7 |\n",
       "| ARMENTANO,A.J. | 7.2 | 8.1 | 7.8 | 7.8 | 7.5 | 7.6 | 7.5 | 7.5 | 7.3 | 7.4 | 7.9 | 7.8 |\n",
       "| BERDON,R.I. | 6.8 | 8.8 | 8.5 | 8.8 | 8.3 | 8.5 | 8.7 | 8.7 | 8.4 | 8.5 | 8.8 | 8.7 |\n",
       "| BRACKEN,J.J. | 7.3 | 6.4 | 4.3 | 6.5 | 6.0 | 6.2 | 5.7 | 5.7 | 5.1 | 5.3 | 5.5 | 4.8 |\n",
       "| BURNS,E.B. | 6.2 | 8.8 | 8.7 | 8.5 | 7.9 | 8.0 | 8.1 | 8.0 | 8.0 | 8.0 | 8.6 | 8.6 |\n",
       "\n"
      ],
      "text/plain": [
       "               CONT INTG DMNR DILG CFMG DECI PREP FAMI ORAL WRIT PHYS RTEN\n",
       "AARONSON,L.H.  5.7  7.9  7.7  7.3  7.1  7.4  7.1  7.1  7.1  7.0  8.3  7.8 \n",
       "ALEXANDER,J.M. 6.8  8.9  8.8  8.5  7.8  8.1  8.0  8.0  7.8  7.9  8.5  8.7 \n",
       "ARMENTANO,A.J. 7.2  8.1  7.8  7.8  7.5  7.6  7.5  7.5  7.3  7.4  7.9  7.8 \n",
       "BERDON,R.I.    6.8  8.8  8.5  8.8  8.3  8.5  8.7  8.7  8.4  8.5  8.8  8.7 \n",
       "BRACKEN,J.J.   7.3  6.4  4.3  6.5  6.0  6.2  5.7  5.7  5.1  5.3  5.5  4.8 \n",
       "BURNS,E.B.     6.2  8.8  8.7  8.5  7.9  8.0  8.1  8.0  8.0  8.0  8.6  8.6 "
      ]
     },
     "metadata": {},
     "output_type": "display_data"
    }
   ],
   "source": [
    "head(USJudgeRatings)"
   ]
  },
  {
   "cell_type": "code",
   "execution_count": 13,
   "id": "handled-wesley",
   "metadata": {},
   "outputs": [
    {
     "data": {
      "text/plain": [
       "\n",
       "Call:\n",
       "lm(formula = RTEN ~ CONT + INTG + DMNR + DILG + CFMG + DECI + \n",
       "    PREP + FAMI + ORAL + WRIT + PHYS, data = USJudgeRatings)\n",
       "\n",
       "Coefficients:\n",
       "(Intercept)         CONT         INTG         DMNR         DILG         CFMG  \n",
       "   -2.11943      0.01280      0.36484      0.12540      0.06669     -0.19453  \n",
       "       DECI         PREP         FAMI         ORAL         WRIT         PHYS  \n",
       "    0.27829     -0.00196     -0.13579      0.54782     -0.06806      0.26881  \n"
      ]
     },
     "metadata": {},
     "output_type": "display_data"
    },
    {
     "data": {
      "text/plain": [
       "\n",
       "Call:\n",
       "lm(formula = RTEN ~ CONT + INTG + DMNR + DILG + CFMG + DECI + \n",
       "    PREP + FAMI + ORAL + WRIT + PHYS, data = USJudgeRatings)\n",
       "\n",
       "Residuals:\n",
       "     Min       1Q   Median       3Q      Max \n",
       "-0.22123 -0.06155 -0.01055  0.05045  0.26079 \n",
       "\n",
       "Coefficients:\n",
       "            Estimate Std. Error t value Pr(>|t|)    \n",
       "(Intercept) -2.11943    0.51904  -4.083 0.000290 ***\n",
       "CONT         0.01280    0.02586   0.495 0.624272    \n",
       "INTG         0.36484    0.12936   2.820 0.008291 ** \n",
       "DMNR         0.12540    0.08971   1.398 0.172102    \n",
       "DILG         0.06669    0.14303   0.466 0.644293    \n",
       "CFMG        -0.19453    0.14779  -1.316 0.197735    \n",
       "DECI         0.27829    0.13826   2.013 0.052883 .  \n",
       "PREP        -0.00196    0.24001  -0.008 0.993536    \n",
       "FAMI        -0.13579    0.26725  -0.508 0.614972    \n",
       "ORAL         0.54782    0.27725   1.976 0.057121 .  \n",
       "WRIT        -0.06806    0.31485  -0.216 0.830269    \n",
       "PHYS         0.26881    0.06213   4.326 0.000146 ***\n",
       "---\n",
       "Signif. codes:  0 '***' 0.001 '**' 0.01 '*' 0.05 '.' 0.1 ' ' 1\n",
       "\n",
       "Residual standard error: 0.1174 on 31 degrees of freedom\n",
       "Multiple R-squared:  0.9916,\tAdjusted R-squared:  0.9886 \n",
       "F-statistic: 332.9 on 11 and 31 DF,  p-value: < 2.2e-16\n"
      ]
     },
     "metadata": {},
     "output_type": "display_data"
    },
    {
     "data": {
      "text/html": [
       "<table>\n",
       "<thead><tr><th></th><th scope=col>2.5 %</th><th scope=col>97.5 %</th></tr></thead>\n",
       "<tbody>\n",
       "\t<tr><th scope=row>(Intercept)</th><td>-3.178010347</td><td>-1.06084902 </td></tr>\n",
       "\t<tr><th scope=row>CONT</th><td>-0.039955335</td><td> 0.06554809 </td></tr>\n",
       "\t<tr><th scope=row>INTG</th><td> 0.101011150</td><td> 0.62866939 </td></tr>\n",
       "\t<tr><th scope=row>DMNR</th><td>-0.057571651</td><td> 0.30836993 </td></tr>\n",
       "\t<tr><th scope=row>DILG</th><td>-0.225031708</td><td> 0.35841366 </td></tr>\n",
       "\t<tr><th scope=row>CFMG</th><td>-0.495940888</td><td> 0.10688683 </td></tr>\n",
       "\t<tr><th scope=row>DECI</th><td>-0.003683181</td><td> 0.56026904 </td></tr>\n",
       "\t<tr><th scope=row>PREP</th><td>-0.491456059</td><td> 0.48753584 </td></tr>\n",
       "\t<tr><th scope=row>FAMI</th><td>-0.680844080</td><td> 0.40926214 </td></tr>\n",
       "\t<tr><th scope=row>ORAL</th><td>-0.017628284</td><td> 1.11326364 </td></tr>\n",
       "\t<tr><th scope=row>WRIT</th><td>-0.710196975</td><td> 0.57407378 </td></tr>\n",
       "\t<tr><th scope=row>PHYS</th><td> 0.142088434</td><td> 0.39553540 </td></tr>\n",
       "</tbody>\n",
       "</table>\n"
      ],
      "text/latex": [
       "\\begin{tabular}{r|ll}\n",
       "  & 2.5 \\% & 97.5 \\%\\\\\n",
       "\\hline\n",
       "\t(Intercept) & -3.178010347 & -1.06084902 \\\\\n",
       "\tCONT & -0.039955335 &  0.06554809 \\\\\n",
       "\tINTG &  0.101011150 &  0.62866939 \\\\\n",
       "\tDMNR & -0.057571651 &  0.30836993 \\\\\n",
       "\tDILG & -0.225031708 &  0.35841366 \\\\\n",
       "\tCFMG & -0.495940888 &  0.10688683 \\\\\n",
       "\tDECI & -0.003683181 &  0.56026904 \\\\\n",
       "\tPREP & -0.491456059 &  0.48753584 \\\\\n",
       "\tFAMI & -0.680844080 &  0.40926214 \\\\\n",
       "\tORAL & -0.017628284 &  1.11326364 \\\\\n",
       "\tWRIT & -0.710196975 &  0.57407378 \\\\\n",
       "\tPHYS &  0.142088434 &  0.39553540 \\\\\n",
       "\\end{tabular}\n"
      ],
      "text/markdown": [
       "\n",
       "| <!--/--> | 2.5 % | 97.5 % |\n",
       "|---|---|---|\n",
       "| (Intercept) | -3.178010347 | -1.06084902  |\n",
       "| CONT | -0.039955335 |  0.06554809  |\n",
       "| INTG |  0.101011150 |  0.62866939  |\n",
       "| DMNR | -0.057571651 |  0.30836993  |\n",
       "| DILG | -0.225031708 |  0.35841366  |\n",
       "| CFMG | -0.495940888 |  0.10688683  |\n",
       "| DECI | -0.003683181 |  0.56026904  |\n",
       "| PREP | -0.491456059 |  0.48753584  |\n",
       "| FAMI | -0.680844080 |  0.40926214  |\n",
       "| ORAL | -0.017628284 |  1.11326364  |\n",
       "| WRIT | -0.710196975 |  0.57407378  |\n",
       "| PHYS |  0.142088434 |  0.39553540  |\n",
       "\n"
      ],
      "text/plain": [
       "            2.5 %        97.5 %     \n",
       "(Intercept) -3.178010347 -1.06084902\n",
       "CONT        -0.039955335  0.06554809\n",
       "INTG         0.101011150  0.62866939\n",
       "DMNR        -0.057571651  0.30836993\n",
       "DILG        -0.225031708  0.35841366\n",
       "CFMG        -0.495940888  0.10688683\n",
       "DECI        -0.003683181  0.56026904\n",
       "PREP        -0.491456059  0.48753584\n",
       "FAMI        -0.680844080  0.40926214\n",
       "ORAL        -0.017628284  1.11326364\n",
       "WRIT        -0.710196975  0.57407378\n",
       "PHYS         0.142088434  0.39553540"
      ]
     },
     "metadata": {},
     "output_type": "display_data"
    },
    {
     "data": {
      "image/png": "[encoded data removed]",
      "text/plain": [
       "Plot with title \"Histogram of residuals(reg1)\""
      ]
     },
     "metadata": {},
     "output_type": "display_data"
    }
   ],
   "source": [
    "data <- USJudgeRatings\n",
    "\n",
    "x <- as.matrix(data[-12]) #all columns except 12\n",
    "y <- data[, 12] #all rows only column 12\n",
    "\n",
    "reg1 <- lm(y ~ x) #y is function of x\n",
    "\n",
    "#or specifiying the vaariables\n",
    "reg1 <- lm (RTEN ~ CONT + INTG + DMNR + DILG + CFMG + DECI + \n",
    "            PREP + FAMI + ORAL + WRIT + PHYS, \n",
    "            data = USJudgeRatings)\n",
    "\n",
    "reg1\n",
    "summary(reg1)\n",
    "confint(reg1)\n",
    "hist(residuals(reg1))"
   ]
  },
  {
   "cell_type": "code",
   "execution_count": null,
   "id": "recovered-discount",
   "metadata": {},
   "outputs": [],
   "source": []
  }
 ],
 "metadata": {
  "kernelspec": {
   "display_name": "R",
   "language": "R",
   "name": "ir"
  },
  "language_info": {
   "codemirror_mode": "r",
   "file_extension": ".r",
   "mimetype": "text/x-r-source",
   "name": "R",
   "pygments_lexer": "r",
   "version": "3.6.1"
  }
 },
 "nbformat": 4,
 "nbformat_minor": 5
}
