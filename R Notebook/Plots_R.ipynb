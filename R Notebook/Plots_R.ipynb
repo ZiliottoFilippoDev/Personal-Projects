{
 "cells": [
  {
   "cell_type": "markdown",
   "id": "prospective-kansas",
   "metadata": {},
   "source": [
    "# General Plots code"
   ]
  },
  {
   "cell_type": "code",
   "execution_count": 3,
   "id": "funky-stage",
   "metadata": {},
   "outputs": [
    {
     "data": {
      "text/html": [
       "<table>\n",
       "<thead><tr><th></th><th scope=col>mpg</th><th scope=col>cyl</th><th scope=col>disp</th><th scope=col>hp</th><th scope=col>drat</th><th scope=col>wt</th><th scope=col>qsec</th><th scope=col>vs</th><th scope=col>am</th><th scope=col>gear</th><th scope=col>carb</th></tr></thead>\n",
       "<tbody>\n",
       "\t<tr><th scope=row>Mazda RX4</th><td>21.0 </td><td>6    </td><td>160  </td><td>110  </td><td>3.90 </td><td>2.620</td><td>16.46</td><td>0    </td><td>1    </td><td>4    </td><td>4    </td></tr>\n",
       "\t<tr><th scope=row>Mazda RX4 Wag</th><td>21.0 </td><td>6    </td><td>160  </td><td>110  </td><td>3.90 </td><td>2.875</td><td>17.02</td><td>0    </td><td>1    </td><td>4    </td><td>4    </td></tr>\n",
       "\t<tr><th scope=row>Datsun 710</th><td>22.8 </td><td>4    </td><td>108  </td><td> 93  </td><td>3.85 </td><td>2.320</td><td>18.61</td><td>1    </td><td>1    </td><td>4    </td><td>1    </td></tr>\n",
       "\t<tr><th scope=row>Hornet 4 Drive</th><td>21.4 </td><td>6    </td><td>258  </td><td>110  </td><td>3.08 </td><td>3.215</td><td>19.44</td><td>1    </td><td>0    </td><td>3    </td><td>1    </td></tr>\n",
       "\t<tr><th scope=row>Hornet Sportabout</th><td>18.7 </td><td>8    </td><td>360  </td><td>175  </td><td>3.15 </td><td>3.440</td><td>17.02</td><td>0    </td><td>0    </td><td>3    </td><td>2    </td></tr>\n",
       "\t<tr><th scope=row>Valiant</th><td>18.1 </td><td>6    </td><td>225  </td><td>105  </td><td>2.76 </td><td>3.460</td><td>20.22</td><td>1    </td><td>0    </td><td>3    </td><td>1    </td></tr>\n",
       "</tbody>\n",
       "</table>\n"
      ],
      "text/latex": [
       "\\begin{tabular}{r|lllllllllll}\n",
       "  & mpg & cyl & disp & hp & drat & wt & qsec & vs & am & gear & carb\\\\\n",
       "\\hline\n",
       "\tMazda RX4 & 21.0  & 6     & 160   & 110   & 3.90  & 2.620 & 16.46 & 0     & 1     & 4     & 4    \\\\\n",
       "\tMazda RX4 Wag & 21.0  & 6     & 160   & 110   & 3.90  & 2.875 & 17.02 & 0     & 1     & 4     & 4    \\\\\n",
       "\tDatsun 710 & 22.8  & 4     & 108   &  93   & 3.85  & 2.320 & 18.61 & 1     & 1     & 4     & 1    \\\\\n",
       "\tHornet 4 Drive & 21.4  & 6     & 258   & 110   & 3.08  & 3.215 & 19.44 & 1     & 0     & 3     & 1    \\\\\n",
       "\tHornet Sportabout & 18.7  & 8     & 360   & 175   & 3.15  & 3.440 & 17.02 & 0     & 0     & 3     & 2    \\\\\n",
       "\tValiant & 18.1  & 6     & 225   & 105   & 2.76  & 3.460 & 20.22 & 1     & 0     & 3     & 1    \\\\\n",
       "\\end{tabular}\n"
      ],
      "text/markdown": [
       "\n",
       "| <!--/--> | mpg | cyl | disp | hp | drat | wt | qsec | vs | am | gear | carb |\n",
       "|---|---|---|---|---|---|---|---|---|---|---|---|\n",
       "| Mazda RX4 | 21.0  | 6     | 160   | 110   | 3.90  | 2.620 | 16.46 | 0     | 1     | 4     | 4     |\n",
       "| Mazda RX4 Wag | 21.0  | 6     | 160   | 110   | 3.90  | 2.875 | 17.02 | 0     | 1     | 4     | 4     |\n",
       "| Datsun 710 | 22.8  | 4     | 108   |  93   | 3.85  | 2.320 | 18.61 | 1     | 1     | 4     | 1     |\n",
       "| Hornet 4 Drive | 21.4  | 6     | 258   | 110   | 3.08  | 3.215 | 19.44 | 1     | 0     | 3     | 1     |\n",
       "| Hornet Sportabout | 18.7  | 8     | 360   | 175   | 3.15  | 3.440 | 17.02 | 0     | 0     | 3     | 2     |\n",
       "| Valiant | 18.1  | 6     | 225   | 105   | 2.76  | 3.460 | 20.22 | 1     | 0     | 3     | 1     |\n",
       "\n"
      ],
      "text/plain": [
       "                  mpg  cyl disp hp  drat wt    qsec  vs am gear carb\n",
       "Mazda RX4         21.0 6   160  110 3.90 2.620 16.46 0  1  4    4   \n",
       "Mazda RX4 Wag     21.0 6   160  110 3.90 2.875 17.02 0  1  4    4   \n",
       "Datsun 710        22.8 4   108   93 3.85 2.320 18.61 1  1  4    1   \n",
       "Hornet 4 Drive    21.4 6   258  110 3.08 3.215 19.44 1  0  3    1   \n",
       "Hornet Sportabout 18.7 8   360  175 3.15 3.440 17.02 0  0  3    2   \n",
       "Valiant           18.1 6   225  105 2.76 3.460 20.22 1  0  3    1   "
      ]
     },
     "metadata": {},
     "output_type": "display_data"
    }
   ],
   "source": [
    "#dataset\n",
    "?mtcars\n",
    "head(mtcars)"
   ]
  },
  {
   "cell_type": "markdown",
   "id": "owned-correlation",
   "metadata": {},
   "source": [
    "## Bar charts "
   ]
  },
  {
   "cell_type": "code",
   "execution_count": 4,
   "id": "recent-cradle",
   "metadata": {},
   "outputs": [
    {
     "data": {
      "image/png": "[encoded data removed]",
      "text/plain": [
       "plot without title"
      ]
     },
     "metadata": {},
     "output_type": "display_data"
    }
   ],
   "source": [
    "barplot(mtcars$cyl)"
   ]
  },
  {
   "cell_type": "code",
   "execution_count": 7,
   "id": "monetary-commissioner",
   "metadata": {},
   "outputs": [
    {
     "data": {
      "image/png": "[encoded data removed]",
      "text/plain": [
       "plot without title"
      ]
     },
     "metadata": {},
     "output_type": "display_data"
    }
   ],
   "source": [
    "cylinders <- table(mtcars$cyl) #create table\n",
    "barplot(cylinders)"
   ]
  },
  {
   "cell_type": "markdown",
   "id": "partial-farmer",
   "metadata": {},
   "source": [
    "## Histograms\n",
    "Useful to look for the shape of distribution, Gaps in the dist., Outliers, Symmetry"
   ]
  },
  {
   "cell_type": "code",
   "execution_count": 9,
   "id": "hindu-cocktail",
   "metadata": {},
   "outputs": [
    {
     "data": {
      "text/html": [
       "<table>\n",
       "<thead><tr><th scope=col>Sepal.Length</th><th scope=col>Sepal.Width</th><th scope=col>Petal.Length</th><th scope=col>Petal.Width</th><th scope=col>Species</th></tr></thead>\n",
       "<tbody>\n",
       "\t<tr><td>5.1   </td><td>3.5   </td><td>1.4   </td><td>0.2   </td><td>setosa</td></tr>\n",
       "\t<tr><td>4.9   </td><td>3.0   </td><td>1.4   </td><td>0.2   </td><td>setosa</td></tr>\n",
       "\t<tr><td>4.7   </td><td>3.2   </td><td>1.3   </td><td>0.2   </td><td>setosa</td></tr>\n",
       "\t<tr><td>4.6   </td><td>3.1   </td><td>1.5   </td><td>0.2   </td><td>setosa</td></tr>\n",
       "\t<tr><td>5.0   </td><td>3.6   </td><td>1.4   </td><td>0.2   </td><td>setosa</td></tr>\n",
       "\t<tr><td>5.4   </td><td>3.9   </td><td>1.7   </td><td>0.4   </td><td>setosa</td></tr>\n",
       "</tbody>\n",
       "</table>\n"
      ],
      "text/latex": [
       "\\begin{tabular}{r|lllll}\n",
       " Sepal.Length & Sepal.Width & Petal.Length & Petal.Width & Species\\\\\n",
       "\\hline\n",
       "\t 5.1    & 3.5    & 1.4    & 0.2    & setosa\\\\\n",
       "\t 4.9    & 3.0    & 1.4    & 0.2    & setosa\\\\\n",
       "\t 4.7    & 3.2    & 1.3    & 0.2    & setosa\\\\\n",
       "\t 4.6    & 3.1    & 1.5    & 0.2    & setosa\\\\\n",
       "\t 5.0    & 3.6    & 1.4    & 0.2    & setosa\\\\\n",
       "\t 5.4    & 3.9    & 1.7    & 0.4    & setosa\\\\\n",
       "\\end{tabular}\n"
      ],
      "text/markdown": [
       "\n",
       "| Sepal.Length | Sepal.Width | Petal.Length | Petal.Width | Species |\n",
       "|---|---|---|---|---|\n",
       "| 5.1    | 3.5    | 1.4    | 0.2    | setosa |\n",
       "| 4.9    | 3.0    | 1.4    | 0.2    | setosa |\n",
       "| 4.7    | 3.2    | 1.3    | 0.2    | setosa |\n",
       "| 4.6    | 3.1    | 1.5    | 0.2    | setosa |\n",
       "| 5.0    | 3.6    | 1.4    | 0.2    | setosa |\n",
       "| 5.4    | 3.9    | 1.7    | 0.4    | setosa |\n",
       "\n"
      ],
      "text/plain": [
       "  Sepal.Length Sepal.Width Petal.Length Petal.Width Species\n",
       "1 5.1          3.5         1.4          0.2         setosa \n",
       "2 4.9          3.0         1.4          0.2         setosa \n",
       "3 4.7          3.2         1.3          0.2         setosa \n",
       "4 4.6          3.1         1.5          0.2         setosa \n",
       "5 5.0          3.6         1.4          0.2         setosa \n",
       "6 5.4          3.9         1.7          0.4         setosa "
      ]
     },
     "metadata": {},
     "output_type": "display_data"
    }
   ],
   "source": [
    "?iris\n",
    "head(iris)"
   ]
  },
  {
   "cell_type": "code",
   "execution_count": 13,
   "id": "severe-baker",
   "metadata": {},
   "outputs": [
    {
     "data": {
      "image/png": "[encoded data removed]",
      "text/plain": [
       "Plot with title \"Histogram of iris$Sepal.Length\""
      ]
     },
     "metadata": {},
     "output_type": "display_data"
    }
   ],
   "source": [
    "hist(iris$Sepal.Length) #aotumaticcaly choose the bins ecc."
   ]
  },
  {
   "cell_type": "markdown",
   "id": "dental-conversation",
   "metadata": {},
   "source": [
    "The following will show a big gap in the data"
   ]
  },
  {
   "cell_type": "code",
   "execution_count": 15,
   "id": "abstract-celtic",
   "metadata": {},
   "outputs": [
    {
     "data": {
      "image/png": "[encoded data removed]",
      "text/plain": [
       "Plot with title \"Histogram of iris$Petal.Length\""
      ]
     },
     "metadata": {},
     "output_type": "display_data"
    }
   ],
   "source": [
    "hist(iris$Petal.Length) #aotumaticcaly choose the bins ecc."
   ]
  },
  {
   "cell_type": "markdown",
   "id": "velvet-myanmar",
   "metadata": {},
   "source": [
    "By groups. This is done taking the petal width only for setosa iris rows"
   ]
  },
  {
   "cell_type": "code",
   "execution_count": 50,
   "id": "danish-terrorism",
   "metadata": {},
   "outputs": [
    {
     "data": {
      "image/png": "[encoded data removed]",
      "text/plain": [
       "Plot with title \"Petal Width for Setosa\""
      ]
     },
     "metadata": {},
     "output_type": "display_data"
    }
   ],
   "source": [
    "par(mfrow = c(3,1)) #3 rows, 1 column\n",
    "\n",
    "hist(iris$Petal.Width [iris$Species == 'setosa'],\n",
    "    xlim = c(0,3),\n",
    "    breaks = 9,\n",
    "    freq = TRUE, #show the freq=True, density=False\n",
    "    main = 'Petal Width for Setosa',\n",
    "    xlab = '',\n",
    "    col = 'red',\n",
    "    )\n",
    "\n",
    "hist(iris$Petal.Width [iris$Species == 'virginica'],\n",
    "    xlim = c(0,3),\n",
    "    breaks = 9,\n",
    "    main = 'Petal Width for Setosa',\n",
    "    xlab = '',\n",
    "    col = 'blue',\n",
    "    )\n",
    "\n",
    "hist(iris$Petal.Width [iris$Species == 'versicolor'],\n",
    "    xlim = c(0,3),\n",
    "    breaks = 9,\n",
    "    main = 'Petal Width for Setosa',\n",
    "    xlab = '',\n",
    "    col = 'green',\n",
    "    )\n",
    "\n",
    "par(mfrow=c(1,1)) #restore parameter"
   ]
  },
  {
   "cell_type": "markdown",
   "id": "elementary-aaron",
   "metadata": {},
   "source": [
    "## Scatter Plots"
   ]
  },
  {
   "cell_type": "code",
   "execution_count": 45,
   "id": "focal-safety",
   "metadata": {},
   "outputs": [
    {
     "data": {
      "image/png": "[encoded data removed]",
      "text/plain": [
       "Plot with title \"MPG\""
      ]
     },
     "metadata": {},
     "output_type": "display_data"
    }
   ],
   "source": [
    "plot(mtcars$wt, mtcars$mpg, #x(wt) vs y(mpg)\n",
    "    pch = 19,\n",
    "     cex = 1.5,\n",
    "     col = 'red',\n",
    "     main = 'MPG',\n",
    "     xlab = 'Weight (1000 pounds)',\n",
    "     ylab = 'MPG',\n",
    "    )"
   ]
  },
  {
   "cell_type": "markdown",
   "id": "instrumental-mileage",
   "metadata": {},
   "source": [
    "For many views as in Cubism"
   ]
  },
  {
   "cell_type": "markdown",
   "id": "mexican-boring",
   "metadata": {},
   "source": [
    "## Overlaying Plots "
   ]
  },
  {
   "cell_type": "code",
   "execution_count": 46,
   "id": "amateur-landing",
   "metadata": {},
   "outputs": [
    {
     "data": {
      "text/html": [
       "<ol class=list-inline>\n",
       "\t<li>269</li>\n",
       "\t<li>321</li>\n",
       "\t<li>585</li>\n",
       "\t<li>871</li>\n",
       "\t<li>1475</li>\n",
       "\t<li>2821</li>\n",
       "</ol>\n"
      ],
      "text/latex": [
       "\\begin{enumerate*}\n",
       "\\item 269\n",
       "\\item 321\n",
       "\\item 585\n",
       "\\item 871\n",
       "\\item 1475\n",
       "\\item 2821\n",
       "\\end{enumerate*}\n"
      ],
      "text/markdown": [
       "1. 269\n",
       "2. 321\n",
       "3. 585\n",
       "4. 871\n",
       "5. 1475\n",
       "6. 2821\n",
       "\n",
       "\n"
      ],
      "text/plain": [
       "[1]  269  321  585  871 1475 2821"
      ]
     },
     "metadata": {},
     "output_type": "display_data"
    }
   ],
   "source": [
    "?lynx\n",
    "head(lynx)"
   ]
  },
  {
   "cell_type": "code",
   "execution_count": 60,
   "id": "aggregate-partner",
   "metadata": {},
   "outputs": [
    {
     "data": {
      "image/png": "[encoded data removed]",
      "text/plain": [
       "Plot with title \"Histogram of Annul Canadian Lynx\""
      ]
     },
     "metadata": {},
     "output_type": "display_data"
    }
   ],
   "source": [
    "#histogram plot\n",
    "hist(lynx,\n",
    "    breaks=14,\n",
    "    freq=FALSE,\n",
    "    col = 'thistle1',\n",
    "    main = paste('Histogram of Annul Canadian Lynx'),\n",
    "    xlab = 'Number of Lynx Trapped'\n",
    "    )\n",
    "\n",
    "#add normal distribution\n",
    "curve(dnorm(x, mean = mean(lynx), sd = sd(lynx)),\n",
    "     col = 'thistle4', #color of curve\n",
    "     lwd = 2, #line width\n",
    "     add = TRUE #superimpose on previous graph\n",
    "     )\n",
    "\n",
    "#add two kernel density estimators\n",
    "lines(density(lynx), col = 'blue', lwd = 2)\n",
    "lines(density(lynx, adjust = 3), col = 'purple', lwd = 2)\n",
    "\n",
    "# add a rug plot\n",
    "rug(lynx, lwd =2, col = 'gray')"
   ]
  }
 ],
 "metadata": {
  "kernelspec": {
   "display_name": "R",
   "language": "R",
   "name": "ir"
  },
  "language_info": {
   "codemirror_mode": "r",
   "file_extension": ".r",
   "mimetype": "text/x-r-source",
   "name": "R",
   "pygments_lexer": "r",
   "version": "3.6.1"
  }
 },
 "nbformat": 4,
 "nbformat_minor": 5
}
