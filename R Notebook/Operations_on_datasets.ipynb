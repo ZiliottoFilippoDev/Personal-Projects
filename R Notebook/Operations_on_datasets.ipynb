{
 "cells": [
  {
   "cell_type": "markdown",
   "id": "descending-bikini",
   "metadata": {},
   "source": [
    "# Summary of Dataset"
   ]
  },
  {
   "cell_type": "code",
   "execution_count": 1,
   "id": "mature-taylor",
   "metadata": {
    "scrolled": true
   },
   "outputs": [
    {
     "data": {
      "text/html": [
       "<table>\n",
       "<thead><tr><th scope=col>Sepal.Length</th><th scope=col>Sepal.Width</th><th scope=col>Petal.Length</th><th scope=col>Petal.Width</th><th scope=col>Species</th></tr></thead>\n",
       "<tbody>\n",
       "\t<tr><td>5.1   </td><td>3.5   </td><td>1.4   </td><td>0.2   </td><td>setosa</td></tr>\n",
       "\t<tr><td>4.9   </td><td>3.0   </td><td>1.4   </td><td>0.2   </td><td>setosa</td></tr>\n",
       "\t<tr><td>4.7   </td><td>3.2   </td><td>1.3   </td><td>0.2   </td><td>setosa</td></tr>\n",
       "\t<tr><td>4.6   </td><td>3.1   </td><td>1.5   </td><td>0.2   </td><td>setosa</td></tr>\n",
       "\t<tr><td>5.0   </td><td>3.6   </td><td>1.4   </td><td>0.2   </td><td>setosa</td></tr>\n",
       "\t<tr><td>5.4   </td><td>3.9   </td><td>1.7   </td><td>0.4   </td><td>setosa</td></tr>\n",
       "</tbody>\n",
       "</table>\n"
      ],
      "text/latex": [
       "\\begin{tabular}{r|lllll}\n",
       " Sepal.Length & Sepal.Width & Petal.Length & Petal.Width & Species\\\\\n",
       "\\hline\n",
       "\t 5.1    & 3.5    & 1.4    & 0.2    & setosa\\\\\n",
       "\t 4.9    & 3.0    & 1.4    & 0.2    & setosa\\\\\n",
       "\t 4.7    & 3.2    & 1.3    & 0.2    & setosa\\\\\n",
       "\t 4.6    & 3.1    & 1.5    & 0.2    & setosa\\\\\n",
       "\t 5.0    & 3.6    & 1.4    & 0.2    & setosa\\\\\n",
       "\t 5.4    & 3.9    & 1.7    & 0.4    & setosa\\\\\n",
       "\\end{tabular}\n"
      ],
      "text/markdown": [
       "\n",
       "| Sepal.Length | Sepal.Width | Petal.Length | Petal.Width | Species |\n",
       "|---|---|---|---|---|\n",
       "| 5.1    | 3.5    | 1.4    | 0.2    | setosa |\n",
       "| 4.9    | 3.0    | 1.4    | 0.2    | setosa |\n",
       "| 4.7    | 3.2    | 1.3    | 0.2    | setosa |\n",
       "| 4.6    | 3.1    | 1.5    | 0.2    | setosa |\n",
       "| 5.0    | 3.6    | 1.4    | 0.2    | setosa |\n",
       "| 5.4    | 3.9    | 1.7    | 0.4    | setosa |\n",
       "\n"
      ],
      "text/plain": [
       "  Sepal.Length Sepal.Width Petal.Length Petal.Width Species\n",
       "1 5.1          3.5         1.4          0.2         setosa \n",
       "2 4.9          3.0         1.4          0.2         setosa \n",
       "3 4.7          3.2         1.3          0.2         setosa \n",
       "4 4.6          3.1         1.5          0.2         setosa \n",
       "5 5.0          3.6         1.4          0.2         setosa \n",
       "6 5.4          3.9         1.7          0.4         setosa "
      ]
     },
     "metadata": {},
     "output_type": "display_data"
    }
   ],
   "source": [
    "library(datasets)\n",
    "head(iris)"
   ]
  },
  {
   "cell_type": "code",
   "execution_count": 2,
   "id": "bacterial-moldova",
   "metadata": {},
   "outputs": [
    {
     "data": {
      "text/html": [
       "<dl class=dl-horizontal>\n",
       "\t<dt>setosa</dt>\n",
       "\t\t<dd>50</dd>\n",
       "\t<dt>versicolor</dt>\n",
       "\t\t<dd>50</dd>\n",
       "\t<dt>virginica</dt>\n",
       "\t\t<dd>50</dd>\n",
       "</dl>\n"
      ],
      "text/latex": [
       "\\begin{description*}\n",
       "\\item[setosa] 50\n",
       "\\item[versicolor] 50\n",
       "\\item[virginica] 50\n",
       "\\end{description*}\n"
      ],
      "text/markdown": [
       "setosa\n",
       ":   50versicolor\n",
       ":   50virginica\n",
       ":   50\n",
       "\n"
      ],
      "text/plain": [
       "    setosa versicolor  virginica \n",
       "        50         50         50 "
      ]
     },
     "metadata": {},
     "output_type": "display_data"
    },
    {
     "data": {
      "text/plain": [
       "   Min. 1st Qu.  Median    Mean 3rd Qu.    Max. \n",
       "  4.300   5.100   5.800   5.843   6.400   7.900 "
      ]
     },
     "metadata": {},
     "output_type": "display_data"
    },
    {
     "data": {
      "text/plain": [
       "  Sepal.Length    Sepal.Width     Petal.Length    Petal.Width   \n",
       " Min.   :4.300   Min.   :2.000   Min.   :1.000   Min.   :0.100  \n",
       " 1st Qu.:5.100   1st Qu.:2.800   1st Qu.:1.600   1st Qu.:0.300  \n",
       " Median :5.800   Median :3.000   Median :4.350   Median :1.300  \n",
       " Mean   :5.843   Mean   :3.057   Mean   :3.758   Mean   :1.199  \n",
       " 3rd Qu.:6.400   3rd Qu.:3.300   3rd Qu.:5.100   3rd Qu.:1.800  \n",
       " Max.   :7.900   Max.   :4.400   Max.   :6.900   Max.   :2.500  \n",
       "       Species  \n",
       " setosa    :50  \n",
       " versicolor:50  \n",
       " virginica :50  \n",
       "                \n",
       "                \n",
       "                "
      ]
     },
     "metadata": {},
     "output_type": "display_data"
    }
   ],
   "source": [
    "summary(iris$Species)\n",
    "summary(iris$Sepal.Length)\n",
    "summary(iris)"
   ]
  },
  {
   "cell_type": "markdown",
   "id": "efficient-worst",
   "metadata": {},
   "source": [
    "# Describe function\n",
    "\n",
    "Useful to view the statistic of the dataset. This comes from the psych package. This package can be installed from Rstudio, here with jupyter or using conda env **conda install r-package**"
   ]
  },
  {
   "cell_type": "code",
   "execution_count": 3,
   "id": "loving-missile",
   "metadata": {},
   "outputs": [
    {
     "name": "stdout",
     "output_type": "stream",
     "text": [
      "package 'psych' successfully unpacked and MD5 sums checked\n",
      "\n",
      "The downloaded binary packages are in\n",
      "\tC:\\Users\\filip\\AppData\\Local\\Temp\\RtmpG64Mts\\downloaded_packages\n"
     ]
    },
    {
     "name": "stderr",
     "output_type": "stream",
     "text": [
      "Warning message:\n",
      "\"package 'psych' was built under R version 3.6.3\""
     ]
    }
   ],
   "source": [
    "install.packages('psych')\n",
    "library(psych) #load library"
   ]
  },
  {
   "cell_type": "code",
   "execution_count": 4,
   "id": "stretch-denver",
   "metadata": {},
   "outputs": [
    {
     "data": {
      "text/html": [
       "<table>\n",
       "<thead><tr><th></th><th scope=col>vars</th><th scope=col>n</th><th scope=col>mean</th><th scope=col>sd</th><th scope=col>median</th><th scope=col>trimmed</th><th scope=col>mad</th><th scope=col>min</th><th scope=col>max</th><th scope=col>range</th><th scope=col>skew</th><th scope=col>kurtosis</th><th scope=col>se</th></tr></thead>\n",
       "<tbody>\n",
       "\t<tr><th scope=row>Sepal.Length</th><td>1         </td><td>150       </td><td>5.843333  </td><td>0.8280661 </td><td>5.80      </td><td>5.808333  </td><td>1.03782   </td><td>4.3       </td><td>7.9       </td><td>3.6       </td><td> 0.3086407</td><td>-0.6058125</td><td>0.06761132</td></tr>\n",
       "\t<tr><th scope=row>Sepal.Width</th><td>2         </td><td>150       </td><td>3.057333  </td><td>0.4358663 </td><td>3.00      </td><td>3.043333  </td><td>0.44478   </td><td>2.0       </td><td>4.4       </td><td>2.4       </td><td> 0.3126147</td><td> 0.1387047</td><td>0.03558833</td></tr>\n",
       "\t<tr><th scope=row>Petal.Length</th><td>3         </td><td>150       </td><td>3.758000  </td><td>1.7652982 </td><td>4.35      </td><td>3.760000  </td><td>1.85325   </td><td>1.0       </td><td>6.9       </td><td>5.9       </td><td>-0.2694109</td><td>-1.4168574</td><td>0.14413600</td></tr>\n",
       "\t<tr><th scope=row>Petal.Width</th><td>4         </td><td>150       </td><td>1.199333  </td><td>0.7622377 </td><td>1.30      </td><td>1.184167  </td><td>1.03782   </td><td>0.1       </td><td>2.5       </td><td>2.4       </td><td>-0.1009166</td><td>-1.3581792</td><td>0.06223645</td></tr>\n",
       "\t<tr><th scope=row>Species*</th><td>5         </td><td>150       </td><td>2.000000  </td><td>0.8192319 </td><td>2.00      </td><td>2.000000  </td><td>1.48260   </td><td>1.0       </td><td>3.0       </td><td>2.0       </td><td> 0.0000000</td><td>-1.5199333</td><td>0.06689001</td></tr>\n",
       "</tbody>\n",
       "</table>\n"
      ],
      "text/latex": [
       "\\begin{tabular}{r|lllllllllllll}\n",
       "  & vars & n & mean & sd & median & trimmed & mad & min & max & range & skew & kurtosis & se\\\\\n",
       "\\hline\n",
       "\tSepal.Length & 1          & 150        & 5.843333   & 0.8280661  & 5.80       & 5.808333   & 1.03782    & 4.3        & 7.9        & 3.6        &  0.3086407 & -0.6058125 & 0.06761132\\\\\n",
       "\tSepal.Width & 2          & 150        & 3.057333   & 0.4358663  & 3.00       & 3.043333   & 0.44478    & 2.0        & 4.4        & 2.4        &  0.3126147 &  0.1387047 & 0.03558833\\\\\n",
       "\tPetal.Length & 3          & 150        & 3.758000   & 1.7652982  & 4.35       & 3.760000   & 1.85325    & 1.0        & 6.9        & 5.9        & -0.2694109 & -1.4168574 & 0.14413600\\\\\n",
       "\tPetal.Width & 4          & 150        & 1.199333   & 0.7622377  & 1.30       & 1.184167   & 1.03782    & 0.1        & 2.5        & 2.4        & -0.1009166 & -1.3581792 & 0.06223645\\\\\n",
       "\tSpecies* & 5          & 150        & 2.000000   & 0.8192319  & 2.00       & 2.000000   & 1.48260    & 1.0        & 3.0        & 2.0        &  0.0000000 & -1.5199333 & 0.06689001\\\\\n",
       "\\end{tabular}\n"
      ],
      "text/markdown": [
       "\n",
       "| <!--/--> | vars | n | mean | sd | median | trimmed | mad | min | max | range | skew | kurtosis | se |\n",
       "|---|---|---|---|---|---|---|---|---|---|---|---|---|---|\n",
       "| Sepal.Length | 1          | 150        | 5.843333   | 0.8280661  | 5.80       | 5.808333   | 1.03782    | 4.3        | 7.9        | 3.6        |  0.3086407 | -0.6058125 | 0.06761132 |\n",
       "| Sepal.Width | 2          | 150        | 3.057333   | 0.4358663  | 3.00       | 3.043333   | 0.44478    | 2.0        | 4.4        | 2.4        |  0.3126147 |  0.1387047 | 0.03558833 |\n",
       "| Petal.Length | 3          | 150        | 3.758000   | 1.7652982  | 4.35       | 3.760000   | 1.85325    | 1.0        | 6.9        | 5.9        | -0.2694109 | -1.4168574 | 0.14413600 |\n",
       "| Petal.Width | 4          | 150        | 1.199333   | 0.7622377  | 1.30       | 1.184167   | 1.03782    | 0.1        | 2.5        | 2.4        | -0.1009166 | -1.3581792 | 0.06223645 |\n",
       "| Species* | 5          | 150        | 2.000000   | 0.8192319  | 2.00       | 2.000000   | 1.48260    | 1.0        | 3.0        | 2.0        |  0.0000000 | -1.5199333 | 0.06689001 |\n",
       "\n"
      ],
      "text/plain": [
       "             vars n   mean     sd        median trimmed  mad     min max range\n",
       "Sepal.Length 1    150 5.843333 0.8280661 5.80   5.808333 1.03782 4.3 7.9 3.6  \n",
       "Sepal.Width  2    150 3.057333 0.4358663 3.00   3.043333 0.44478 2.0 4.4 2.4  \n",
       "Petal.Length 3    150 3.758000 1.7652982 4.35   3.760000 1.85325 1.0 6.9 5.9  \n",
       "Petal.Width  4    150 1.199333 0.7622377 1.30   1.184167 1.03782 0.1 2.5 2.4  \n",
       "Species*     5    150 2.000000 0.8192319 2.00   2.000000 1.48260 1.0 3.0 2.0  \n",
       "             skew       kurtosis   se        \n",
       "Sepal.Length  0.3086407 -0.6058125 0.06761132\n",
       "Sepal.Width   0.3126147  0.1387047 0.03558833\n",
       "Petal.Length -0.2694109 -1.4168574 0.14413600\n",
       "Petal.Width  -0.1009166 -1.3581792 0.06223645\n",
       "Species*      0.0000000 -1.5199333 0.06689001"
      ]
     },
     "metadata": {},
     "output_type": "display_data"
    }
   ],
   "source": [
    "describe(iris)"
   ]
  },
  {
   "cell_type": "code",
   "execution_count": 5,
   "id": "federal-local",
   "metadata": {},
   "outputs": [
    {
     "data": {
      "text/html": [
       "<table>\n",
       "<thead><tr><th></th><th scope=col>vars</th><th scope=col>n</th><th scope=col>mean</th><th scope=col>sd</th><th scope=col>median</th><th scope=col>trimmed</th><th scope=col>mad</th><th scope=col>min</th><th scope=col>max</th><th scope=col>range</th><th scope=col>skew</th><th scope=col>kurtosis</th><th scope=col>se</th></tr></thead>\n",
       "<tbody>\n",
       "\t<tr><th scope=row>X1</th><td>1         </td><td>150       </td><td>5.843333  </td><td>0.8280661 </td><td>5.8       </td><td>5.808333  </td><td>1.03782   </td><td>4.3       </td><td>7.9       </td><td>3.6       </td><td>0.3086407 </td><td>-0.6058125</td><td>0.06761132</td></tr>\n",
       "</tbody>\n",
       "</table>\n"
      ],
      "text/latex": [
       "\\begin{tabular}{r|lllllllllllll}\n",
       "  & vars & n & mean & sd & median & trimmed & mad & min & max & range & skew & kurtosis & se\\\\\n",
       "\\hline\n",
       "\tX1 & 1          & 150        & 5.843333   & 0.8280661  & 5.8        & 5.808333   & 1.03782    & 4.3        & 7.9        & 3.6        & 0.3086407  & -0.6058125 & 0.06761132\\\\\n",
       "\\end{tabular}\n"
      ],
      "text/markdown": [
       "\n",
       "| <!--/--> | vars | n | mean | sd | median | trimmed | mad | min | max | range | skew | kurtosis | se |\n",
       "|---|---|---|---|---|---|---|---|---|---|---|---|---|---|\n",
       "| X1 | 1          | 150        | 5.843333   | 0.8280661  | 5.8        | 5.808333   | 1.03782    | 4.3        | 7.9        | 3.6        | 0.3086407  | -0.6058125 | 0.06761132 |\n",
       "\n"
      ],
      "text/plain": [
       "   vars n   mean     sd        median trimmed  mad     min max range skew     \n",
       "X1 1    150 5.843333 0.8280661 5.8    5.808333 1.03782 4.3 7.9 3.6   0.3086407\n",
       "   kurtosis   se        \n",
       "X1 -0.6058125 0.06761132"
      ]
     },
     "metadata": {},
     "output_type": "display_data"
    }
   ],
   "source": [
    "describe(iris$Sepal.Length)"
   ]
  },
  {
   "cell_type": "markdown",
   "id": "tropical-laundry",
   "metadata": {},
   "source": [
    "# Selecting Data "
   ]
  },
  {
   "cell_type": "code",
   "execution_count": 7,
   "id": "preliminary-newfoundland",
   "metadata": {},
   "outputs": [
    {
     "data": {
      "text/plain": [
       "   Min. 1st Qu.  Median    Mean 3rd Qu.    Max. \n",
       "  1.000   1.600   4.350   3.758   5.100   6.900 "
      ]
     },
     "metadata": {},
     "output_type": "display_data"
    },
    {
     "data": {
      "image/png": "[encoded data removed]",
      "text/plain": [
       "Plot with title \"Histogram of iris$Petal.Length\""
      ]
     },
     "metadata": {},
     "output_type": "display_data"
    }
   ],
   "source": [
    "hist(iris$Petal.Length)\n",
    "summary(iris$Petal.Length)"
   ]
  },
  {
   "cell_type": "code",
   "execution_count": 8,
   "id": "established-yield",
   "metadata": {},
   "outputs": [
    {
     "data": {
      "text/html": [
       "<dl class=dl-horizontal>\n",
       "\t<dt>setosa</dt>\n",
       "\t\t<dd>50</dd>\n",
       "\t<dt>versicolor</dt>\n",
       "\t\t<dd>50</dd>\n",
       "\t<dt>virginica</dt>\n",
       "\t\t<dd>50</dd>\n",
       "</dl>\n"
      ],
      "text/latex": [
       "\\begin{description*}\n",
       "\\item[setosa] 50\n",
       "\\item[versicolor] 50\n",
       "\\item[virginica] 50\n",
       "\\end{description*}\n"
      ],
      "text/markdown": [
       "setosa\n",
       ":   50versicolor\n",
       ":   50virginica\n",
       ":   50\n",
       "\n"
      ],
      "text/plain": [
       "    setosa versicolor  virginica \n",
       "        50         50         50 "
      ]
     },
     "metadata": {},
     "output_type": "display_data"
    }
   ],
   "source": [
    "summary(iris$Species)"
   ]
  },
  {
   "cell_type": "markdown",
   "id": "controversial-limitation",
   "metadata": {},
   "source": [
    "To select values to a categorical variable"
   ]
  },
  {
   "cell_type": "code",
   "execution_count": 11,
   "id": "correct-oliver",
   "metadata": {},
   "outputs": [
    {
     "data": {
      "image/png": "[encoded data removed]",
      "text/plain": [
       "Plot with title \"Petal Length: Versicolor\""
      ]
     },
     "metadata": {},
     "output_type": "display_data"
    },
    {
     "data": {
      "image/png": "[encoded data removed]",
      "text/plain": [
       "Plot with title \"Petal Length: Virginica\""
      ]
     },
     "metadata": {},
     "output_type": "display_data"
    },
    {
     "data": {
      "image/png": "[encoded data removed]",
      "text/plain": [
       "Plot with title \"Petal Length: Setosa\""
      ]
     },
     "metadata": {},
     "output_type": "display_data"
    }
   ],
   "source": [
    "hist(iris$Petal.Length [iris$Species == 'versicolor'],\n",
    "    main = 'Petal Length: Versicolor')\n",
    "\n",
    "hist(iris$Petal.Length [iris$Species == 'virginica'],\n",
    "    main = 'Petal Length: Virginica')\n",
    "\n",
    "hist(iris$Petal.Length [iris$Species == 'setosa'],\n",
    "    main = 'Petal Length: Setosa')"
   ]
  },
  {
   "cell_type": "markdown",
   "id": "skilled-norwegian",
   "metadata": {},
   "source": [
    "Selecting data on value threshold or name to follow "
   ]
  },
  {
   "cell_type": "code",
   "execution_count": 14,
   "id": "usual-nurse",
   "metadata": {},
   "outputs": [
    {
     "data": {
      "image/png": "[encoded data removed]",
      "text/plain": [
       "Plot with title \"Petal Lenght < 2\""
      ]
     },
     "metadata": {},
     "output_type": "display_data"
    }
   ],
   "source": [
    "hist(iris$Petal.Length [iris$Petal.Length < 2],\n",
    "    main = 'Petal Lenght < 2')"
   ]
  },
  {
   "cell_type": "code",
   "execution_count": 17,
   "id": "accomplished-seeker",
   "metadata": {},
   "outputs": [
    {
     "data": {
      "image/png": "[encoded data removed]",
      "text/plain": [
       "Plot with title \"Only Virginica and Petal Lenght < 5.5\""
      ]
     },
     "metadata": {},
     "output_type": "display_data"
    }
   ],
   "source": [
    "hist(iris$Petal.Length [iris$Species == 'virginica' & \n",
    "                        iris$Petal.Length < 5.5],\n",
    "    main = 'Only Virginica and Petal Lenght < 5.5')"
   ]
  },
  {
   "cell_type": "markdown",
   "id": "stretch-arcade",
   "metadata": {},
   "source": [
    "To create a new dataset selecting only the wanted data (new data object)"
   ]
  },
  {
   "cell_type": "code",
   "execution_count": 22,
   "id": "blessed-mercy",
   "metadata": {},
   "outputs": [
    {
     "data": {
      "text/html": [
       "<table>\n",
       "<thead><tr><th scope=col>Sepal.Length</th><th scope=col>Sepal.Width</th><th scope=col>Petal.Length</th><th scope=col>Petal.Width</th><th scope=col>Species</th></tr></thead>\n",
       "<tbody>\n",
       "\t<tr><td>5.1   </td><td>3.5   </td><td>1.4   </td><td>0.2   </td><td>setosa</td></tr>\n",
       "\t<tr><td>4.9   </td><td>3.0   </td><td>1.4   </td><td>0.2   </td><td>setosa</td></tr>\n",
       "\t<tr><td>4.7   </td><td>3.2   </td><td>1.3   </td><td>0.2   </td><td>setosa</td></tr>\n",
       "\t<tr><td>4.6   </td><td>3.1   </td><td>1.5   </td><td>0.2   </td><td>setosa</td></tr>\n",
       "\t<tr><td>5.0   </td><td>3.6   </td><td>1.4   </td><td>0.2   </td><td>setosa</td></tr>\n",
       "\t<tr><td>5.4   </td><td>3.9   </td><td>1.7   </td><td>0.4   </td><td>setosa</td></tr>\n",
       "</tbody>\n",
       "</table>\n"
      ],
      "text/latex": [
       "\\begin{tabular}{r|lllll}\n",
       " Sepal.Length & Sepal.Width & Petal.Length & Petal.Width & Species\\\\\n",
       "\\hline\n",
       "\t 5.1    & 3.5    & 1.4    & 0.2    & setosa\\\\\n",
       "\t 4.9    & 3.0    & 1.4    & 0.2    & setosa\\\\\n",
       "\t 4.7    & 3.2    & 1.3    & 0.2    & setosa\\\\\n",
       "\t 4.6    & 3.1    & 1.5    & 0.2    & setosa\\\\\n",
       "\t 5.0    & 3.6    & 1.4    & 0.2    & setosa\\\\\n",
       "\t 5.4    & 3.9    & 1.7    & 0.4    & setosa\\\\\n",
       "\\end{tabular}\n"
      ],
      "text/markdown": [
       "\n",
       "| Sepal.Length | Sepal.Width | Petal.Length | Petal.Width | Species |\n",
       "|---|---|---|---|---|\n",
       "| 5.1    | 3.5    | 1.4    | 0.2    | setosa |\n",
       "| 4.9    | 3.0    | 1.4    | 0.2    | setosa |\n",
       "| 4.7    | 3.2    | 1.3    | 0.2    | setosa |\n",
       "| 4.6    | 3.1    | 1.5    | 0.2    | setosa |\n",
       "| 5.0    | 3.6    | 1.4    | 0.2    | setosa |\n",
       "| 5.4    | 3.9    | 1.7    | 0.4    | setosa |\n",
       "\n"
      ],
      "text/plain": [
       "  Sepal.Length Sepal.Width Petal.Length Petal.Width Species\n",
       "1 5.1          3.5         1.4          0.2         setosa \n",
       "2 4.9          3.0         1.4          0.2         setosa \n",
       "3 4.7          3.2         1.3          0.2         setosa \n",
       "4 4.6          3.1         1.5          0.2         setosa \n",
       "5 5.0          3.6         1.4          0.2         setosa \n",
       "6 5.4          3.9         1.7          0.4         setosa "
      ]
     },
     "metadata": {},
     "output_type": "display_data"
    },
    {
     "data": {
      "text/plain": [
       "   Min. 1st Qu.  Median    Mean 3rd Qu.    Max. \n",
       "  2.300   3.200   3.400   3.428   3.675   4.400 "
      ]
     },
     "metadata": {},
     "output_type": "display_data"
    },
    {
     "data": {
      "image/png": "[encoded data removed]",
      "text/plain": [
       "Plot with title \"Histogram of i.setosa$Petal.Length\""
      ]
     },
     "metadata": {},
     "output_type": "display_data"
    }
   ],
   "source": [
    "i.setosa <- iris[iris$Species == 'setosa',]\n",
    "head(i.setosa)\n",
    "summary(i.setosa$Sepal.Width)\n",
    "hist(i.setosa$Petal.Length)"
   ]
  },
  {
   "cell_type": "code",
   "execution_count": null,
   "id": "convinced-reverse",
   "metadata": {},
   "outputs": [],
   "source": []
  }
 ],
 "metadata": {
  "kernelspec": {
   "display_name": "R",
   "language": "R",
   "name": "ir"
  },
  "language_info": {
   "codemirror_mode": "r",
   "file_extension": ".r",
   "mimetype": "text/x-r-source",
   "name": "R",
   "pygments_lexer": "r",
   "version": "3.6.1"
  }
 },
 "nbformat": 4,
 "nbformat_minor": 5
}
