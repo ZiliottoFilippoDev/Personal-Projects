{
 "cells": [
  {
   "cell_type": "markdown",
   "id": "harmful-outline",
   "metadata": {},
   "source": [
    "# Entering Data\n",
    "Ad hoc data. There are many methods: colon, seq, c, scan, rep. Also <- is an assignment operator.\n",
    "\n",
    "In Rstudio there is a shortcut (option-dash) for the assignment"
   ]
  },
  {
   "cell_type": "code",
   "execution_count": 2,
   "id": "twelve-interpretation",
   "metadata": {},
   "outputs": [
    {
     "data": {
      "text/html": [
       "<ol class=list-inline>\n",
       "\t<li>10</li>\n",
       "\t<li>9</li>\n",
       "\t<li>8</li>\n",
       "\t<li>7</li>\n",
       "\t<li>6</li>\n",
       "\t<li>5</li>\n",
       "\t<li>4</li>\n",
       "\t<li>3</li>\n",
       "\t<li>2</li>\n",
       "\t<li>1</li>\n",
       "\t<li>0</li>\n",
       "</ol>\n"
      ],
      "text/latex": [
       "\\begin{enumerate*}\n",
       "\\item 10\n",
       "\\item 9\n",
       "\\item 8\n",
       "\\item 7\n",
       "\\item 6\n",
       "\\item 5\n",
       "\\item 4\n",
       "\\item 3\n",
       "\\item 2\n",
       "\\item 1\n",
       "\\item 0\n",
       "\\end{enumerate*}\n"
      ],
      "text/markdown": [
       "1. 10\n",
       "2. 9\n",
       "3. 8\n",
       "4. 7\n",
       "5. 6\n",
       "6. 5\n",
       "7. 4\n",
       "8. 3\n",
       "9. 2\n",
       "10. 1\n",
       "11. 0\n",
       "\n",
       "\n"
      ],
      "text/plain": [
       " [1] 10  9  8  7  6  5  4  3  2  1  0"
      ]
     },
     "metadata": {},
     "output_type": "display_data"
    }
   ],
   "source": [
    "x1 <- 10:0\n",
    "x1"
   ]
  },
  {
   "cell_type": "code",
   "execution_count": 3,
   "id": "focused-looking",
   "metadata": {},
   "outputs": [],
   "source": [
    "?seq"
   ]
  },
  {
   "cell_type": "code",
   "execution_count": 8,
   "id": "developed-victoria",
   "metadata": {},
   "outputs": [
    {
     "data": {
      "text/html": [
       "<ol class=list-inline>\n",
       "\t<li>1</li>\n",
       "\t<li>2</li>\n",
       "\t<li>3</li>\n",
       "\t<li>4</li>\n",
       "\t<li>5</li>\n",
       "\t<li>6</li>\n",
       "\t<li>7</li>\n",
       "\t<li>8</li>\n",
       "\t<li>9</li>\n",
       "\t<li>10</li>\n",
       "</ol>\n"
      ],
      "text/latex": [
       "\\begin{enumerate*}\n",
       "\\item 1\n",
       "\\item 2\n",
       "\\item 3\n",
       "\\item 4\n",
       "\\item 5\n",
       "\\item 6\n",
       "\\item 7\n",
       "\\item 8\n",
       "\\item 9\n",
       "\\item 10\n",
       "\\end{enumerate*}\n"
      ],
      "text/markdown": [
       "1. 1\n",
       "2. 2\n",
       "3. 3\n",
       "4. 4\n",
       "5. 5\n",
       "6. 6\n",
       "7. 7\n",
       "8. 8\n",
       "9. 9\n",
       "10. 10\n",
       "\n",
       "\n"
      ],
      "text/plain": [
       " [1]  1  2  3  4  5  6  7  8  9 10"
      ]
     },
     "metadata": {},
     "output_type": "display_data"
    },
    {
     "data": {
      "text/html": [
       "<ol class=list-inline>\n",
       "\t<li>30</li>\n",
       "\t<li>27</li>\n",
       "\t<li>24</li>\n",
       "\t<li>21</li>\n",
       "\t<li>18</li>\n",
       "\t<li>15</li>\n",
       "\t<li>12</li>\n",
       "\t<li>9</li>\n",
       "\t<li>6</li>\n",
       "\t<li>3</li>\n",
       "\t<li>0</li>\n",
       "</ol>\n"
      ],
      "text/latex": [
       "\\begin{enumerate*}\n",
       "\\item 30\n",
       "\\item 27\n",
       "\\item 24\n",
       "\\item 21\n",
       "\\item 18\n",
       "\\item 15\n",
       "\\item 12\n",
       "\\item 9\n",
       "\\item 6\n",
       "\\item 3\n",
       "\\item 0\n",
       "\\end{enumerate*}\n"
      ],
      "text/markdown": [
       "1. 30\n",
       "2. 27\n",
       "3. 24\n",
       "4. 21\n",
       "5. 18\n",
       "6. 15\n",
       "7. 12\n",
       "8. 9\n",
       "9. 6\n",
       "10. 3\n",
       "11. 0\n",
       "\n",
       "\n"
      ],
      "text/plain": [
       " [1] 30 27 24 21 18 15 12  9  6  3  0"
      ]
     },
     "metadata": {},
     "output_type": "display_data"
    },
    {
     "data": {
      "text/html": [
       "<ol class=list-inline>\n",
       "\t<li>5</li>\n",
       "\t<li>3</li>\n",
       "\t<li>2</li>\n",
       "\t<li>13</li>\n",
       "\t<li>5</li>\n",
       "\t<li>4</li>\n",
       "\t<li>2</li>\n",
       "\t<li>5</li>\n",
       "\t<li>6</li>\n",
       "</ol>\n"
      ],
      "text/latex": [
       "\\begin{enumerate*}\n",
       "\\item 5\n",
       "\\item 3\n",
       "\\item 2\n",
       "\\item 13\n",
       "\\item 5\n",
       "\\item 4\n",
       "\\item 2\n",
       "\\item 5\n",
       "\\item 6\n",
       "\\end{enumerate*}\n"
      ],
      "text/markdown": [
       "1. 5\n",
       "2. 3\n",
       "3. 2\n",
       "4. 13\n",
       "5. 5\n",
       "6. 4\n",
       "7. 2\n",
       "8. 5\n",
       "9. 6\n",
       "\n",
       "\n"
      ],
      "text/plain": [
       "[1]  5  3  2 13  5  4  2  5  6"
      ]
     },
     "metadata": {},
     "output_type": "display_data"
    }
   ],
   "source": [
    "x3 <- seq(10)\n",
    "x3\n",
    "\n",
    "x4 <- seq(30, 0, by = -3)\n",
    "x4\n",
    "\n",
    "x5 <- c(5,3,2,13,5,4,2,5,6)\n",
    "x5"
   ]
  },
  {
   "cell_type": "markdown",
   "id": "alpha-cameroon",
   "metadata": {},
   "source": [
    "The scan() function is to input data as for cin>> in C++. It cannot be used (as far as i know) in jupyter but it only works in Rstudio"
   ]
  },
  {
   "cell_type": "code",
   "execution_count": null,
   "id": "convinced-think",
   "metadata": {},
   "outputs": [],
   "source": [
    "?scan"
   ]
  },
  {
   "cell_type": "code",
   "execution_count": 16,
   "id": "stone-turtle",
   "metadata": {},
   "outputs": [],
   "source": [
    "x6 <- scan()"
   ]
  },
  {
   "cell_type": "code",
   "execution_count": 17,
   "id": "olympic-produce",
   "metadata": {},
   "outputs": [
    {
     "data": {
      "text/html": [],
      "text/latex": [],
      "text/markdown": [],
      "text/plain": [
       "numeric(0)"
      ]
     },
     "metadata": {},
     "output_type": "display_data"
    }
   ],
   "source": [
    "?rep"
   ]
  },
  {
   "cell_type": "code",
   "execution_count": 22,
   "id": "pursuant-moral",
   "metadata": {},
   "outputs": [
    {
     "data": {
      "text/html": [
       "<ol class=list-inline>\n",
       "\t<li>TRUE</li>\n",
       "\t<li>TRUE</li>\n",
       "\t<li>TRUE</li>\n",
       "\t<li>TRUE</li>\n",
       "\t<li>TRUE</li>\n",
       "</ol>\n"
      ],
      "text/latex": [
       "\\begin{enumerate*}\n",
       "\\item TRUE\n",
       "\\item TRUE\n",
       "\\item TRUE\n",
       "\\item TRUE\n",
       "\\item TRUE\n",
       "\\end{enumerate*}\n"
      ],
      "text/markdown": [
       "1. TRUE\n",
       "2. TRUE\n",
       "3. TRUE\n",
       "4. TRUE\n",
       "5. TRUE\n",
       "\n",
       "\n"
      ],
      "text/plain": [
       "[1] TRUE TRUE TRUE TRUE TRUE"
      ]
     },
     "metadata": {},
     "output_type": "display_data"
    },
    {
     "data": {
      "text/html": [
       "<ol class=list-inline>\n",
       "\t<li>TRUE</li>\n",
       "\t<li>FALSE</li>\n",
       "\t<li>TRUE</li>\n",
       "\t<li>FALSE</li>\n",
       "\t<li>TRUE</li>\n",
       "\t<li>FALSE</li>\n",
       "\t<li>TRUE</li>\n",
       "\t<li>FALSE</li>\n",
       "\t<li>TRUE</li>\n",
       "\t<li>FALSE</li>\n",
       "</ol>\n"
      ],
      "text/latex": [
       "\\begin{enumerate*}\n",
       "\\item TRUE\n",
       "\\item FALSE\n",
       "\\item TRUE\n",
       "\\item FALSE\n",
       "\\item TRUE\n",
       "\\item FALSE\n",
       "\\item TRUE\n",
       "\\item FALSE\n",
       "\\item TRUE\n",
       "\\item FALSE\n",
       "\\end{enumerate*}\n"
      ],
      "text/markdown": [
       "1. TRUE\n",
       "2. FALSE\n",
       "3. TRUE\n",
       "4. FALSE\n",
       "5. TRUE\n",
       "6. FALSE\n",
       "7. TRUE\n",
       "8. FALSE\n",
       "9. TRUE\n",
       "10. FALSE\n",
       "\n",
       "\n"
      ],
      "text/plain": [
       " [1]  TRUE FALSE  TRUE FALSE  TRUE FALSE  TRUE FALSE  TRUE FALSE"
      ]
     },
     "metadata": {},
     "output_type": "display_data"
    },
    {
     "data": {
      "text/html": [
       "<ol class=list-inline>\n",
       "\t<li>TRUE</li>\n",
       "\t<li>TRUE</li>\n",
       "\t<li>TRUE</li>\n",
       "\t<li>TRUE</li>\n",
       "\t<li>TRUE</li>\n",
       "\t<li>FALSE</li>\n",
       "\t<li>FALSE</li>\n",
       "\t<li>FALSE</li>\n",
       "\t<li>FALSE</li>\n",
       "\t<li>FALSE</li>\n",
       "</ol>\n"
      ],
      "text/latex": [
       "\\begin{enumerate*}\n",
       "\\item TRUE\n",
       "\\item TRUE\n",
       "\\item TRUE\n",
       "\\item TRUE\n",
       "\\item TRUE\n",
       "\\item FALSE\n",
       "\\item FALSE\n",
       "\\item FALSE\n",
       "\\item FALSE\n",
       "\\item FALSE\n",
       "\\end{enumerate*}\n"
      ],
      "text/markdown": [
       "1. TRUE\n",
       "2. TRUE\n",
       "3. TRUE\n",
       "4. TRUE\n",
       "5. TRUE\n",
       "6. FALSE\n",
       "7. FALSE\n",
       "8. FALSE\n",
       "9. FALSE\n",
       "10. FALSE\n",
       "\n",
       "\n"
      ],
      "text/plain": [
       " [1]  TRUE  TRUE  TRUE  TRUE  TRUE FALSE FALSE FALSE FALSE FALSE"
      ]
     },
     "metadata": {},
     "output_type": "display_data"
    }
   ],
   "source": [
    "x7 <- rep(TRUE, 5) #rep = repetition\n",
    "x7\n",
    "\n",
    "x8 <- rep(c(TRUE, FALSE), 5)\n",
    "x8\n",
    "\n",
    "x9 <- rep(c(TRUE, FALSE), each=5)\n",
    "x9"
   ]
  },
  {
   "cell_type": "markdown",
   "id": "designing-lebanon",
   "metadata": {},
   "source": [
    "# Importing Data\n",
    "Importing data as csv, txt files as well as xlsx and json. R as all importing functions but you can use just one with the RIO library. In Rstudio it's easy i cannot find a way to import it in jupyter"
   ]
  },
  {
   "cell_type": "code",
   "execution_count": 54,
   "id": "foreign-harbor",
   "metadata": {},
   "outputs": [
    {
     "data": {
      "text/html": [
       "<table>\n",
       "<thead><tr><th scope=col>Month</th><th scope=col>Mozart</th><th scope=col>Beethoven</th><th scope=col>Bach</th></tr></thead>\n",
       "<tbody>\n",
       "\t<tr><td>2004-01</td><td>12     </td><td>8      </td><td>15     </td></tr>\n",
       "\t<tr><td>2004-02</td><td>12     </td><td>9      </td><td>15     </td></tr>\n",
       "\t<tr><td>2004-03</td><td>12     </td><td>9      </td><td>14     </td></tr>\n",
       "\t<tr><td>2004-04</td><td>12     </td><td>8      </td><td>14     </td></tr>\n",
       "\t<tr><td>2004-05</td><td>11     </td><td>9      </td><td>13     </td></tr>\n",
       "\t<tr><td>2004-06</td><td> 9     </td><td>7      </td><td>12     </td></tr>\n",
       "</tbody>\n",
       "</table>\n"
      ],
      "text/latex": [
       "\\begin{tabular}{r|llll}\n",
       " Month & Mozart & Beethoven & Bach\\\\\n",
       "\\hline\n",
       "\t 2004-01 & 12      & 8       & 15     \\\\\n",
       "\t 2004-02 & 12      & 9       & 15     \\\\\n",
       "\t 2004-03 & 12      & 9       & 14     \\\\\n",
       "\t 2004-04 & 12      & 8       & 14     \\\\\n",
       "\t 2004-05 & 11      & 9       & 13     \\\\\n",
       "\t 2004-06 &  9      & 7       & 12     \\\\\n",
       "\\end{tabular}\n"
      ],
      "text/markdown": [
       "\n",
       "| Month | Mozart | Beethoven | Bach |\n",
       "|---|---|---|---|\n",
       "| 2004-01 | 12      | 8       | 15      |\n",
       "| 2004-02 | 12      | 9       | 15      |\n",
       "| 2004-03 | 12      | 9       | 14      |\n",
       "| 2004-04 | 12      | 8       | 14      |\n",
       "| 2004-05 | 11      | 9       | 13      |\n",
       "| 2004-06 |  9      | 7       | 12      |\n",
       "\n"
      ],
      "text/plain": [
       "  Month   Mozart Beethoven Bach\n",
       "1 2004-01 12     8         15  \n",
       "2 2004-02 12     9         15  \n",
       "3 2004-03 12     9         14  \n",
       "4 2004-04 12     8         14  \n",
       "5 2004-05 11     9         13  \n",
       "6 2004-06  9     7         12  "
      ]
     },
     "metadata": {},
     "output_type": "display_data"
    }
   ],
   "source": [
    "#using the standart library of R\n",
    "csv <- read.csv2('R_data/mbb.csv', header=TRUE, sep=',')\n",
    "head(csv)"
   ]
  },
  {
   "cell_type": "code",
   "execution_count": 60,
   "id": "empirical-prediction",
   "metadata": {},
   "outputs": [
    {
     "data": {
      "text/html": [
       "<table>\n",
       "<thead><tr><th scope=col>Month</th><th scope=col>Mozart</th><th scope=col>Beethoven</th><th scope=col>Bach</th></tr></thead>\n",
       "<tbody>\n",
       "\t<tr><td>2004-01</td><td>12     </td><td>8      </td><td>15     </td></tr>\n",
       "\t<tr><td>2004-02</td><td>12     </td><td>9      </td><td>15     </td></tr>\n",
       "\t<tr><td>2004-03</td><td>12     </td><td>9      </td><td>14     </td></tr>\n",
       "\t<tr><td>2004-04</td><td>12     </td><td>8      </td><td>14     </td></tr>\n",
       "\t<tr><td>2004-05</td><td>11     </td><td>9      </td><td>13     </td></tr>\n",
       "\t<tr><td>2004-06</td><td> 9     </td><td>7      </td><td>12     </td></tr>\n",
       "</tbody>\n",
       "</table>\n"
      ],
      "text/latex": [
       "\\begin{tabular}{r|llll}\n",
       " Month & Mozart & Beethoven & Bach\\\\\n",
       "\\hline\n",
       "\t 2004-01 & 12      & 8       & 15     \\\\\n",
       "\t 2004-02 & 12      & 9       & 15     \\\\\n",
       "\t 2004-03 & 12      & 9       & 14     \\\\\n",
       "\t 2004-04 & 12      & 8       & 14     \\\\\n",
       "\t 2004-05 & 11      & 9       & 13     \\\\\n",
       "\t 2004-06 &  9      & 7       & 12     \\\\\n",
       "\\end{tabular}\n"
      ],
      "text/markdown": [
       "\n",
       "| Month | Mozart | Beethoven | Bach |\n",
       "|---|---|---|---|\n",
       "| 2004-01 | 12      | 8       | 15      |\n",
       "| 2004-02 | 12      | 9       | 15      |\n",
       "| 2004-03 | 12      | 9       | 14      |\n",
       "| 2004-04 | 12      | 8       | 14      |\n",
       "| 2004-05 | 11      | 9       | 13      |\n",
       "| 2004-06 |  9      | 7       | 12      |\n",
       "\n"
      ],
      "text/plain": [
       "  Month   Mozart Beethoven Bach\n",
       "1 2004-01 12     8         15  \n",
       "2 2004-02 12     9         15  \n",
       "3 2004-03 12     9         14  \n",
       "4 2004-04 12     8         14  \n",
       "5 2004-05 11     9         13  \n",
       "6 2004-06  9     7         12  "
      ]
     },
     "metadata": {},
     "output_type": "display_data"
    }
   ],
   "source": [
    "r_txt1 <- read.table('R_data/mbb.txt', header=TRUE, sep = '\\t')\n",
    "head(r_txt1)"
   ]
  },
  {
   "cell_type": "code",
   "execution_count": 61,
   "id": "talented-weight",
   "metadata": {},
   "outputs": [
    {
     "ename": "ERROR",
     "evalue": "Error in import(\"R_data/mbb.csv\"): non trovo la funzione \"import\"\n",
     "output_type": "error",
     "traceback": [
      "Error in import(\"R_data/mbb.csv\"): non trovo la funzione \"import\"\nTraceback:\n"
     ]
    }
   ],
   "source": [
    "#using rio library\n",
    "rio_csv <- import('R_data/mbb.csv')\n",
    "head(rio_csv)\n",
    "\n",
    "rio_txt <- import('R_data/mbb.txt')\n",
    "head(rio_txt)"
   ]
  },
  {
   "cell_type": "code",
   "execution_count": 55,
   "id": "improved-asset",
   "metadata": {},
   "outputs": [],
   "source": [
    "?View"
   ]
  },
  {
   "cell_type": "code",
   "execution_count": 56,
   "id": "occupied-minneapolis",
   "metadata": {},
   "outputs": [
    {
     "ename": "ERROR",
     "evalue": "Error in View(csv): 'View()' not yet supported in the Jupyter R kernel\n",
     "output_type": "error",
     "traceback": [
      "Error in View(csv): 'View()' not yet supported in the Jupyter R kernel\nTraceback:\n",
      "1. View(csv)",
      "2. stop(sQuote(\"View()\"), \" not yet supported in the Jupyter R kernel\")"
     ]
    }
   ],
   "source": [
    "View(csv)"
   ]
  },
  {
   "cell_type": "code",
   "execution_count": null,
   "id": "vulnerable-leeds",
   "metadata": {},
   "outputs": [],
   "source": []
  }
 ],
 "metadata": {
  "kernelspec": {
   "display_name": "R",
   "language": "R",
   "name": "ir"
  },
  "language_info": {
   "codemirror_mode": "r",
   "file_extension": ".r",
   "mimetype": "text/x-r-source",
   "name": "R",
   "pygments_lexer": "r",
   "version": "3.6.1"
  }
 },
 "nbformat": 4,
 "nbformat_minor": 5
}
